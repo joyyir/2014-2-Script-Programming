{
 "metadata": {
  "name": "",
  "signature": "sha256:4836ee59f14dd434dd02bbfd51dac63eafc37f3bb3e3723a3d9f540362058072"
 },
 "nbformat": 3,
 "nbformat_minor": 0,
 "worksheets": [
  {
   "cells": [
    {
     "cell_type": "markdown",
     "metadata": {},
     "source": [
      "Script Programming Assignment - 03\n",
      "======\n",
      "###\u3000\u3000\u3000\u3000\u3000\u3000\u3000\u3000\u3000\u3000\u3000\u3000\u3000\u3000\u3000\u3000\u3000\u3000\u3000\u3000\u3000\u3000\u3000\u3000\u3000\u3000\u3000\u3000\u3000\u3000\u3000\u3000\ud55c\uc5f0\ud76c \uad50\uc218\ub2d8 / 1\ubd84\ubc18\n",
      "###\u3000\u3000\u3000\u3000\u3000\u3000\u3000\u3000\u3000\u3000\u3000\u3000\u3000\u3000\u3000\u3000\u3000\u3000\u3000\u3000\u3000\u3000\u3000\u3000\u3000\u3000\u3000\u3000\u3000\u3000\u3000\u3000\ucef4\ud4e8\ud130\uacf5\ud559\ubd80 / 2011136102 / \uc7a5\uc900\uc601\n",
      "###\u3000\u3000\u3000\u3000\u3000\u3000\u3000\u3000\u3000\u3000\u3000\u3000\u3000\u3000\u3000\u3000\u3000\u3000\u3000\u3000\u3000\u3000\u3000\u3000\u3000\u3000\u3000\u3000\u3000\u3000\u3000\u3000\uc81c\ucd9c\uc77c : 2014. 10. 8. (\uc218)"
     ]
    },
    {
     "cell_type": "markdown",
     "metadata": {},
     "source": [
      "-----\n",
      "###**1. L = [1, 2, 3, 4, 5]\uc77c \ub54c \ub2e4\uc74c \uac01 \ubb38\uc7a5\uc744 \uc218\ud589\ud55c \ud6c4\uc758 \uacb0\uacfc\ub97c \ubcf4\uace0 \ub0a9\ub4dd\ud560 \ub9cc\ud55c \uc774\uc720\ub97c \uc124\uba85\ud558\uc2dc\uc624..**"
     ]
    },
    {
     "cell_type": "markdown",
     "metadata": {},
     "source": [
      "1)"
     ]
    },
    {
     "cell_type": "code",
     "collapsed": false,
     "input": [
      "L = [1, 2, 3, 4, 5]\n",
      "L[1:3] = [100]\n",
      "print L"
     ],
     "language": "python",
     "metadata": {},
     "outputs": [
      {
       "output_type": "stream",
       "stream": "stdout",
       "text": [
        "[1, 100, 4, 5]\n"
       ]
      }
     ],
     "prompt_number": 1
    },
    {
     "cell_type": "markdown",
     "metadata": {},
     "source": [
      "###**\uc124\uba85**\n",
      "- L[1:3]\uc5d0 \ud574\ub2f9\ud558\ub294 \ub9ac\uc2a4\ud2b8\uac00 [100] \ub9ac\uc2a4\ud2b8\ub85c \ubc14\ub01c.  "
     ]
    },
    {
     "cell_type": "markdown",
     "metadata": {},
     "source": [
      "2)"
     ]
    },
    {
     "cell_type": "code",
     "collapsed": false,
     "input": [
      "L = [1, 2, 3, 4, 5]\n",
      "L[1:3] = [(100)]\n",
      "print L"
     ],
     "language": "python",
     "metadata": {},
     "outputs": [
      {
       "output_type": "stream",
       "stream": "stdout",
       "text": [
        "[1, 100, 4, 5]\n"
       ]
      }
     ],
     "prompt_number": 2
    },
    {
     "cell_type": "markdown",
     "metadata": {},
     "source": [
      "###**\uc124\uba85**\n",
      "- type((100))\uac00 int\uc778 \uac78\ub85c\ubd24\uc744 \ub54c, \uacb0\uad6d 1)\ubc88\uacfc \uac19\uc740 \uc2dd\uc774\ub2e4."
     ]
    },
    {
     "cell_type": "markdown",
     "metadata": {},
     "source": [
      "3)"
     ]
    },
    {
     "cell_type": "code",
     "collapsed": false,
     "input": [
      "L = [1, 2, 3, 4, 5]\n",
      "L[1:3] = 100\n",
      "print L"
     ],
     "language": "python",
     "metadata": {},
     "outputs": [
      {
       "ename": "TypeError",
       "evalue": "can only assign an iterable",
       "output_type": "pyerr",
       "traceback": [
        "\u001b[1;31m---------------------------------------------------------------------------\u001b[0m\n\u001b[1;31mTypeError\u001b[0m                                 Traceback (most recent call last)",
        "\u001b[1;32m<ipython-input-3-21449691155d>\u001b[0m in \u001b[0;36m<module>\u001b[1;34m()\u001b[0m\n\u001b[0;32m      1\u001b[0m \u001b[0mL\u001b[0m \u001b[1;33m=\u001b[0m \u001b[1;33m[\u001b[0m\u001b[1;36m1\u001b[0m\u001b[1;33m,\u001b[0m \u001b[1;36m2\u001b[0m\u001b[1;33m,\u001b[0m \u001b[1;36m3\u001b[0m\u001b[1;33m,\u001b[0m \u001b[1;36m4\u001b[0m\u001b[1;33m,\u001b[0m \u001b[1;36m5\u001b[0m\u001b[1;33m]\u001b[0m\u001b[1;33m\u001b[0m\u001b[0m\n\u001b[1;32m----> 2\u001b[1;33m \u001b[0mL\u001b[0m\u001b[1;33m[\u001b[0m\u001b[1;36m1\u001b[0m\u001b[1;33m:\u001b[0m\u001b[1;36m3\u001b[0m\u001b[1;33m]\u001b[0m \u001b[1;33m=\u001b[0m \u001b[1;36m100\u001b[0m\u001b[1;33m\u001b[0m\u001b[0m\n\u001b[0m\u001b[0;32m      3\u001b[0m \u001b[1;32mprint\u001b[0m \u001b[0mL\u001b[0m\u001b[1;33m\u001b[0m\u001b[0m\n",
        "\u001b[1;31mTypeError\u001b[0m: can only assign an iterable"
       ]
      }
     ],
     "prompt_number": 3
    },
    {
     "cell_type": "markdown",
     "metadata": {},
     "source": [
      "###\uc124\uba85\n",
      "- \ub9ac\uc2a4\ud2b8\uc5d0 \uae30\ubcf8 \uc790\ub8cc\ud615\uc758 \ub300\uc785 \uc5f0\uc0b0\uc740 \ubd88\uac00\ub2a5\ud568\uc744 \uc54c \uc218 \uc788\ub2e4."
     ]
    },
    {
     "cell_type": "markdown",
     "metadata": {},
     "source": [
      "4)"
     ]
    },
    {
     "cell_type": "code",
     "collapsed": false,
     "input": [
      "L = [1, 2, 3, 4, 5]\n",
      "L[1:3] = (100)\n",
      "print L"
     ],
     "language": "python",
     "metadata": {},
     "outputs": []
    },
    {
     "cell_type": "markdown",
     "metadata": {},
     "source": [
      "###\uc124\uba85\n",
      "- (100)\uc740 100\uacfc \uac19\uc73c\ubbc0\ub85c \uc5ed\uc2dc 3)\uacfc \uac19\uc740 \uacb0\uacfc\uac00 \ub098\uc628\ub2e4."
     ]
    },
    {
     "cell_type": "markdown",
     "metadata": {},
     "source": [
      "5)"
     ]
    },
    {
     "cell_type": "code",
     "collapsed": false,
     "input": [
      "L = [1, 2, 3, 4, 5]\n",
      "L[1:3] = (100, 101, 102)\n",
      "print L"
     ],
     "language": "python",
     "metadata": {},
     "outputs": []
    },
    {
     "cell_type": "markdown",
     "metadata": {},
     "source": [
      "###\uc124\uba85\n",
      "- \ub9ac\uc2a4\ud2b8\uc5d0 \ud29c\ud50c \uc790\ub8cc\ud615\uc744 \ub300\uc785 \uc5f0\uc0b0\ud558\ub294 \uac83\uc774 \uac00\ub2a5\ud558\ub2e4."
     ]
    },
    {
     "cell_type": "markdown",
     "metadata": {},
     "source": [
      "6)"
     ]
    },
    {
     "cell_type": "code",
     "collapsed": false,
     "input": [
      "L = [1, 2, 3, 4, 5]\n",
      "L[1:3] = [100, 101, 102]\n",
      "print L"
     ],
     "language": "python",
     "metadata": {},
     "outputs": []
    },
    {
     "cell_type": "markdown",
     "metadata": {},
     "source": [
      "###\uc124\uba85\n",
      "- L[1:3]\uc5d0 \ud574\ub2f9\ud558\ub294 \ub9ac\uc2a4\ud2b8\uac00 \ub300\uc785 \uc5f0\uc0b0\uc5d0 \uc758\ud574 [100, 101, 102]\ub85c \ubc14\ub010\ub2e4. "
     ]
    },
    {
     "cell_type": "markdown",
     "metadata": {},
     "source": [
      "7)"
     ]
    },
    {
     "cell_type": "code",
     "collapsed": false,
     "input": [
      "L = [1, 2, 3, 4, 5]\n",
      "L[1:3] = [(100, 101, 102)]\n",
      "print L"
     ],
     "language": "python",
     "metadata": {},
     "outputs": [
      {
       "output_type": "stream",
       "stream": "stdout",
       "text": [
        "[1, (100, 101, 102), 4, 5]\n"
       ]
      }
     ],
     "prompt_number": 4
    },
    {
     "cell_type": "markdown",
     "metadata": {},
     "source": [
      "###\uc124\uba85\n",
      "- \ud29c\ud50c (100, 101, 102)\ub97c \ub9ac\uc2a4\ud2b8\uc758 \ud558\ub098\uc758 \uc6d0\uc18c\ub85c \ubcf8\ub2e4.  \n",
      "    \uadf8 \uc6d0\uc18c\ub97c \ud3ec\ud568\ud55c \ub9ac\uc2a4\ud2b8\uac00 L[1:3]\uc73c\ub85c \ub300\uccb4 \ub41c\ub2e4."
     ]
    },
    {
     "cell_type": "markdown",
     "metadata": {},
     "source": [
      "8)"
     ]
    },
    {
     "cell_type": "code",
     "collapsed": false,
     "input": [
      "L = [1, 2, 3, 4, 5]\n",
      "L[1:3] = [[100, 101, 102]]\n",
      "print L"
     ],
     "language": "python",
     "metadata": {},
     "outputs": [
      {
       "output_type": "stream",
       "stream": "stdout",
       "text": [
        "[1, [100, 101, 102], 4, 5]\n"
       ]
      }
     ],
     "prompt_number": 5
    },
    {
     "cell_type": "markdown",
     "metadata": {},
     "source": [
      "###**\uc124\uba85**\n",
      "- \ub9ac\uc2a4\ud2b8\uc778 [100, 101, 102]\ub97c \ub9ac\uc2a4\ud2b8\uc758 \ud558\ub098\uc758 \uc6d0\uc18c\ub85c \ubcf8\ub2e4. \uadf8 \uc6d0\uc18c\ub97c \ud3ec\ud568\ud55c \ub9ac\uc2a4\ud2b8\uac00 L[1:3]\uc73c\ub85c \ub300\uccb4 \ub41c\ub2e4."
     ]
    },
    {
     "cell_type": "markdown",
     "metadata": {},
     "source": [
      "-----\n",
      "###**2. \ubb38\uc790\uc5f4 S = 'Hello World and Python'\uc5d0 \ub300\ud574 \ub2e4\uc74c \uc694\uad6c\uc0ac\ud56d\uc5d0 \ub300\ud55c Python \ucf54\ub4dc\ub97c \uc81c\uc2dc\ud558\uc2dc\uc624.**\n",
      "**    1) \ub2e8\uc5b4\uc758 \uc21c\uc11c\uac00 \uc5ed\uc21c\uc73c\ub85c \ub418\uc5b4\uc9c4 \ubb38\uc790\uc5f4 ('Python and World Hello')\uc744 \ub9cc\ub4e4\uace0**  \n",
      "**    2) 1)\uc758 \uacb0\uacfc \ubb38\uc790\uc5f4\uc5d0 \ub300\ud574 \uba54\uc18c\ub4dc split\uacfc join\uc744 \uc774\uc6a9\ud558\uc5ec \uacf5\ubc31\uc744 \ubaa8\ub450 \uc5c6\uc5d4 \ubb38\uc790\uc5f4 'PythonandWorldHello'\uc744 \ub9cc\ub4dc\uc2dc\uc624.**"
     ]
    },
    {
     "cell_type": "code",
     "collapsed": false,
     "input": [
      "s = 'Hello World and Python'\n",
      "list_s = s.split()\n",
      "list_s.reverse()\n",
      "s = ' '.join(list_s)\n",
      "print s\n",
      "print ''.join(s.split())"
     ],
     "language": "python",
     "metadata": {},
     "outputs": [
      {
       "output_type": "stream",
       "stream": "stdout",
       "text": [
        "Python and World Hello\n",
        "PythonandWorldHello\n"
       ]
      }
     ],
     "prompt_number": 6
    },
    {
     "cell_type": "markdown",
     "metadata": {},
     "source": [
      "###**\uc124\uba85**\n",
      "\n",
      "    1) s\ub97c \uacf5\ubc31\uc73c\ub85c \ucabc\uac1c\uc5b4 \ub9ac\uc2a4\ud2b8 list_s\uc5d0 \uc800\uc7a5  \n",
      "    2) reverse()\ub85c \ub9ac\uc2a4\ud2b8\ub97c \uc5ed\uc21c\uc73c\ub85c \uc7ac\ubc30\uc5f4  \n",
      "    3) join()\ub97c \uc774\uc6a9\ud574 \ub9ac\uc2a4\ud2b8\uc5d0 \uc800\uc7a5\ub41c \ub2e8\uc5b4\ub97c ' '\ub85c \uc5f0\uacb0\ud558\uc5ec \ubb38\uc790\uc5f4\ub85c \ub9cc\ub4e0\ub2e4.  \n",
      "    4) s\ub97c \ucd9c\ub825  \n",
      "    5) s\ub97c \uacf5\ubc31\uc744 \uae30\uc900\uc73c\ub85c \ub2e8\uc5b4\ub85c \ucabc\uac20 \ub2e4\uc74c ''\ub85c \uc5f0\uacb0\ud558\uc5ec \ubb38\uc790\uc5f4\ub85c \ub9cc\ub4e0 \ub4a4 \ucd9c\ub825  "
     ]
    },
    {
     "cell_type": "markdown",
     "metadata": {},
     "source": [
      "-----\n",
      "###**3. \ub2e4\uc74c \ucf54\ub4dc\ub97c \ubcf4\uace0 \ubb3c\uc74c\uc5d0 \ub2f5\ud558\uc2dc\uc624.**"
     ]
    },
    {
     "cell_type": "code",
     "collapsed": false,
     "input": [
      "a = [1, 2, 3]\n",
      "b = a * 3\n",
      "c = [a] * 3\n",
      "print b\n",
      "print c"
     ],
     "language": "python",
     "metadata": {},
     "outputs": [
      {
       "output_type": "stream",
       "stream": "stdout",
       "text": [
        "[1, 2, 3, 1, 2, 3, 1, 2, 3]\n",
        "[[1, 2, 3], [1, 2, 3], [1, 2, 3]]\n"
       ]
      }
     ],
     "prompt_number": 7
    },
    {
     "cell_type": "markdown",
     "metadata": {},
     "source": [
      "1) \uc704 \ucf54\ub4dc\ub97c \uc218\ud589\ud55c \uc774\ud6c4 \ub2e4\uc74c \ucf54\ub4dc\ub97c \uc218\ud589\ud55c \ud6c4 b\uc640 c\uc758 \ub0b4\uc6a9\uc744 \ud655\uc778\ud558\uc2dc\uc624."
     ]
    },
    {
     "cell_type": "code",
     "collapsed": false,
     "input": [
      "a[0] = 0\n",
      "print 'b = %s' % b\n",
      "print 'c = %s' % c"
     ],
     "language": "python",
     "metadata": {},
     "outputs": [
      {
       "output_type": "stream",
       "stream": "stdout",
       "text": [
        "b = [1, 2, 3, 1, 2, 3, 1, 2, 3]\n",
        "c = [[0, 2, 3], [0, 2, 3], [0, 2, 3]]\n"
       ]
      }
     ],
     "prompt_number": 8
    },
    {
     "cell_type": "markdown",
     "metadata": {},
     "source": [
      "2) b\uc640 c\uac1d\uccb4\uc758 \ucc28\uc774\ub294 \ubb34\uc5c7\uc778\uac00?  \n",
      "###\uc124\uba85\n",
      "- b\uac1d\uccb4\ub294 a\uc758 \uac12\uc774 \ubcf5\uc0ac\ub418\uc5b4 \uc6d0\uc18c\uac00 \uae30\ubcf8 \uc790\ub8cc\ud615\uc778 \ub9ac\uc2a4\ud2b8\uc774\ub2e4.  \n",
      "    \ubc18\uba74, c\uac1d\uccb4\ub294 a\uac1d\uccb4\uc758 \uc77c\uc885\uc758 \ub808\ud37c\ub7f0\uc2a4\ub85c \uc774\ub8e8\uc5b4\uc9c4 \ub9ac\uc2a4\ud2b8\uc774\ub2e4. \ub530\ub77c\uc11c a\uac1d\uccb4\uc758 \uac12\uc774 \ubcc0\ud558\uba74 c\uac1d\uccb4 \uc5ed\uc2dc \uac12\uc774 \ubcc0\ud558\uac8c \ub41c\ub2e4."
     ]
    },
    {
     "cell_type": "markdown",
     "metadata": {},
     "source": [
      "-----\n",
      "###4. \ub2e4\uc74c \ubb38\uc790\uc5f4\uc744 ':'\uc744 \uae30\uc900\uc73c\ub85c \ubd84\ub9ac\ud558\uc5ec \ub9ac\uc2a4\ud2b8\ub85c \ub9cc\ub4e4\uace0 \uac01 \ubb38\uc790\uc5f4\uc758 \uc88c\uc6b0 \uacf5\ubc31\uc744 \uc81c\uac70\ud558\uc2dc\uc624 (\uc989, \ubb38\uc790\uc5f4 S\uc5d0\uc11c l\uc744 \ub9cc\ub4e4\uc5b4\ub77c)\n",
      "    s = '  first star   :   second star   :    third star  '\n",
      "    l = ['first star', 'second star', 'third star']"
     ]
    },
    {
     "cell_type": "markdown",
     "metadata": {},
     "source": [
      "**1) for ~ in \ubb38\uc744 \uc774\uc6a9\ud55c \ucf54\ub4dc\ub97c \uc791\uc131\ud558\uc2dc\uc624.**"
     ]
    },
    {
     "cell_type": "code",
     "collapsed": false,
     "input": [
      "s = '  first star   :   second star   :    third star  '\n",
      "list_s = s.split(':')\n",
      "len_s = len(list_s)\n",
      "for i in range(len_s):\n",
      "    list_s[i] = list_s[i].strip()\n",
      "print list_s"
     ],
     "language": "python",
     "metadata": {},
     "outputs": [
      {
       "output_type": "stream",
       "stream": "stdout",
       "text": [
        "['first star', 'second star', 'third star']\n"
       ]
      }
     ],
     "prompt_number": 9
    },
    {
     "cell_type": "markdown",
     "metadata": {},
     "source": [
      "###\uc124\uba85\n",
      "    1) split()\uc744 \uc774\uc6a9\ud574 ':'\ub97c \uae30\uc900\uc73c\ub85c \ubd84\ub9ac\ud558\uc5ec \ub9ac\uc2a4\ud2b8\ub97c \ub9cc\ub4e0\ub2e4.  \n",
      "    2) \ub9ac\uc2a4\ud2b8\uc758 index\ub97c \uc774\uc6a9\ud574 \uc6d0\uc18c\uc5d0 \uc811\uadfc\ud558\uace0 strip()\uc744 \uc774\uc6a9\ud574 \uc591\ucabd \uacf5\ubc31\uc744 \uc5c6\uc564 \ub2e4\uc74c, \ub2e4\uc2dc \uadf8 index\uc5d0 \uc9d1\uc5b4 \ub123\ub294\ub2e4."
     ]
    },
    {
     "cell_type": "markdown",
     "metadata": {},
     "source": [
      "**2) \ub9ac\uc2a4\ud2b8 \ub0b4\ud3ec(list comprehension)\ub97c \uc774\uc6a9\ud55c \ucf54\ub4dc\ub97c \uc791\uc131\ud558\uc2dc\uc624.**"
     ]
    },
    {
     "cell_type": "code",
     "collapsed": false,
     "input": [
      "s = '  first star   :   second star   :    third star  '\n",
      "list_s = s.split(':');\n",
      "list_s = [ i.strip() for i in list_s ]\n",
      "print list_s"
     ],
     "language": "python",
     "metadata": {},
     "outputs": [
      {
       "output_type": "stream",
       "stream": "stdout",
       "text": [
        "['first star', 'second star', 'third star']\n"
       ]
      }
     ],
     "prompt_number": 10
    },
    {
     "cell_type": "markdown",
     "metadata": {},
     "source": [
      "###\uc124\uba85\n",
      "    1) split()\uc744 \uc774\uc6a9\ud574 ':'\ub97c \uae30\uc900\uc73c\ub85c \ubd84\ub9ac\ud558\uc5ec \ub9ac\uc2a4\ud2b8\ub97c \ub9cc\ub4e0\ub2e4.  \n",
      "    2) \ub9ac\uc2a4\ud2b8\uc758 \uac01 \uc6d0\uc18c\ub85c \uc9c1\uc811 \uc811\uadfc\ud558\uace0 strip()\uc744 \uc774\uc6a9\ud574 \uc591\ucabd \uacf5\ubc31\uc744 \uc5c6\uc564 \ub2e4\uc74c, list_s \ub9ac\uc2a4\ud2b8\uc5d0 \uc9d1\uc5b4 \ub123\ub294\ub2e4."
     ]
    },
    {
     "cell_type": "markdown",
     "metadata": {},
     "source": [
      "-----\n",
      "###**5. \ub2e4\uc74c\uacfc \uac19\uc774 0\ubcf4\ub2e4 \ud070 \uc815\uc218 \ub9ac\uc2a4\ud2b8 \ubcc0\uc218 list\ub97c \uc778\uc790\ub85c \ubc1b\ub294 \ud568\uc218 addall(list)\uc640 addallodd(list)\ub97c for ~ in \ub9ac\ud130\ub110\uacfc \ub9ac\uc2a4\ud2b8 \ub0b4\ud3ec \ubc29\uc2dd\uc73c\ub85c \uac01\uac01 \uc81c\uc2dc\ud558\uc2dc\uc624.**\n",
      "**1) addall(list) \ud568\uc218 (\ub9ac\uc2a4\ud2b8 \ub0b4\uc758 \ubaa8\ub4e0 \uc815\uc218\ub97c \ub354\ud558\ub294 \ud568\uc218\ub85c\uc11c \ud574\ub2f5\uc73c\ub85c\ub294 for ~ in \ub9ac\ud130\ub7f4\uacfc \ub9ac\uc2a4\ud2b8 \ub0b4\ud3ec \ubc29\uc2dd\uc73c\ub85c \uac01\uac01 \uc81c\uc2dc\ud558\uc2dc\uc624.)**  \n",
      "\n",
      "    >>> addall([1])\n",
      "    1  \n",
      "\n",
      "    >>> addall([1, 2, 3, 4, 5, 6, 7, 8, 9])  \n",
      "    45  "
     ]
    },
    {
     "cell_type": "code",
     "collapsed": false,
     "input": [
      "# for ~ in \ub9ac\ud130\ub7f4 \ubc29\uc2dd\n",
      "def addall_a(a):\n",
      "    sum = 0\n",
      "    for i in a:\n",
      "        sum += i\n",
      "    return sum\n",
      "\n",
      "a = [1, 2, 3, 4, 5]\n",
      "print addall_a(a)\n",
      "\n",
      "# \ub9ac\uc2a4\ud2b8 \ub0b4\ud3ec \ubc29\uc2dd\n",
      "def addall_b(a):\n",
      "    sum = 0\n",
      "    a = [i for i in a]\n",
      "    for i in a:\n",
      "        sum += i\n",
      "    return sum\n",
      "\n",
      "b = [1, 2, 3, 4, 5]\n",
      "print addall_b(b)"
     ],
     "language": "python",
     "metadata": {},
     "outputs": [
      {
       "output_type": "stream",
       "stream": "stdout",
       "text": [
        "15\n",
        "15\n"
       ]
      }
     ],
     "prompt_number": 11
    },
    {
     "cell_type": "markdown",
     "metadata": {},
     "source": [
      "###\uc124\uba85\n",
      "- for ~ in \ub9ac\ud130\ub7f4 \ubc29\uc2dd  \n",
      "\n",
      "    1) \uac01 \uc6d0\uc18c\ub97c sum\uc5d0 \ub354\ud568  \n",
      "    2) sum\uc744 return  \n",
      "    \n",
      "    \n",
      "- \ub9ac\uc2a4\ud2b8 \ub0b4\ud3ec \ubc29\uc2dd  \n",
      "\n",
      "    \uad50\uc218\ub2d8\uaed8\uc11c \uc758\ub3c4\ud558\uc2e0 \ubc14\ub97c \ubaa8\ub974\uaca0\ub2e4.\n",
      "    \ub9ac\uc2a4\ud2b8 \ub0b4\ud3ec \ubc29\uc2dd\uc740 \uc0c8\ub85c\uc6b4 \ub9ac\uc2a4\ud2b8\ub97c \ud6a8\uc728\uc801\uc73c\ub85c \ub9cc\ub4dc\ub294 \ubc29\ubc95\uc73c\ub85c \uc54c\uace0 \uc788\ub294\ub370  \n",
      "    \uc774\uac83\uc744 \uac01 \uc6d0\uc18c\uc758 \ud569\uc744 \uad6c\ud558\ub294\ub370 \uc5b4\ub5bb\uac8c \ud65c\uc6a9\ud574\uc57c\ud560\uc9c0 \ubaa8\ub974\uaca0\ub2e4.  "
     ]
    },
    {
     "cell_type": "markdown",
     "metadata": {},
     "source": [
      "**2) addallodd(list) \ud568\uc218 (\ub9ac\uc2a4\ud2b8\ub0b4\uc758 \ubaa8\ub4e0 \ud640\uc218\ub97c \ub354\ud558\ub294 \ud568\uc218\ub85c\uc11c \ud574\ub2f5\uc73c\ub85c\ub294 for ~ in \ub9ac\ud130\ub7f4\uacfc \ub9ac\uc2a4\ud2b8 \ub0b4\ud3ec \ubc29\uc2dd\uc73c\ub85c \uac01\uac01 \uc81c\uc2dc\ud558\uc2dc\uc624.)**  \n",
      "\n",
      "    >>> addallodd([1])  \n",
      "    1  \n",
      "\n",
      "    >>> addallodd([1, 2, 3, 4, 5, 6, 7, 8, 9])  \n",
      "    25  "
     ]
    },
    {
     "cell_type": "code",
     "collapsed": false,
     "input": [
      "# for ~ in \ub9ac\ud130\ub7f4 \ubc29\uc2dd\n",
      "def addallodd_a(a):\n",
      "    sum = 0\n",
      "    for i in a:\n",
      "        if i % 2 == 1:\n",
      "            sum += i\n",
      "    return sum\n",
      "\n",
      "a = [1, 2, 3, 4, 5]\n",
      "print addallodd_a(a)\n",
      "\n",
      "# \ub9ac\uc2a4\ud2b8 \ub0b4\ud3ec \ubc29\uc2dd\n",
      "def addallodd_b(a):\n",
      "    a = [ i for i in a if i % 2 == 1 ]\n",
      "    sum = 0\n",
      "    for i in a:\n",
      "        sum += i\n",
      "    return sum\n",
      "\n",
      "b = [1, 2, 3, 4, 5]\n",
      "print addallodd_b(b)"
     ],
     "language": "python",
     "metadata": {},
     "outputs": [
      {
       "output_type": "stream",
       "stream": "stdout",
       "text": [
        "9\n",
        "9\n"
       ]
      }
     ],
     "prompt_number": 12
    },
    {
     "cell_type": "markdown",
     "metadata": {},
     "source": [
      "###\uc124\uba85\n",
      "- for ~ in \ub9ac\ud130\ub7f4 \ubc29\uc2dd  \n",
      "\n",
      "    1) \uac01 \uc6d0\uc18c\uac00 \ud640\uc218\uc778\uc9c0 \uac80\uc0ac\ud55c \ub2e4\uc74c, \ud640\uc218\uc774\uba74 sum\uc5d0 \ub354\ud568  \n",
      "    2) sum\uc744 return  \n",
      "    \n",
      "    \n",
      "- \ub9ac\uc2a4\ud2b8 \ub0b4\ud3ec \ubc29\uc2dd  \n",
      "\n",
      "    1) \ud640\uc218\uc778 \uc6d0\uc18c\ub85c \ub9ac\uc2a4\ud2b8\ub97c \uc7ac\uad6c\uc131  \n",
      "    2) \ub9ac\uc2a4\ud2b8\uc758 \uac01 \uc6d0\uc18c\ub97c sum\uc5d0 \ub354\ud568  \n",
      "    3) sum\uc744 return  "
     ]
    },
    {
     "cell_type": "markdown",
     "metadata": {},
     "source": [
      "-----\n",
      "###**6. \ub2e4\uc74c \ucf54\ub4dc\ub97c \ubcf4\uace0 \ubb3c\uc74c\uc5d0 \ub2f5\ud558\uc2dc\uc624.**"
     ]
    },
    {
     "cell_type": "code",
     "collapsed": false,
     "input": [
      "L1 = [1, 2, 3]  \n",
      "L2 = [4, 5, 6]  \n",
      "d = {'low':L1, 'high':L2}  \n",
      "e = d  \n",
      "f = d.copy()  \n",
      "print d  \n",
      "print e  \n",
      "print f  \n",
      "print  \n",
      "d['low'] = [10, 20, 30]  \n",
      "d['high'][1] = 500  \n",
      "print d  \n",
      "print e  \n",
      "print f  "
     ],
     "language": "python",
     "metadata": {},
     "outputs": [
      {
       "output_type": "stream",
       "stream": "stdout",
       "text": [
        "{'high': [4, 5, 6], 'low': [1, 2, 3]}\n",
        "{'high': [4, 5, 6], 'low': [1, 2, 3]}\n",
        "{'high': [4, 5, 6], 'low': [1, 2, 3]}\n",
        "\n",
        "{'high': [4, 500, 6], 'low': [10, 20, 30]}\n",
        "{'high': [4, 500, 6], 'low': [10, 20, 30]}\n",
        "{'high': [4, 500, 6], 'low': [1, 2, 3]}\n"
       ]
      }
     ],
     "prompt_number": 13
    },
    {
     "cell_type": "markdown",
     "metadata": {},
     "source": [
      "**1) \uc704 \ucf54\ub4dc\uc758 \uc218\ud589 \uacb0\uacfc d\uc640 e\ub294 \ud56d\uc0c1 \uac19\uc740 \uacb0\uacfc\ub97c \ucd9c\ub825\ud55c\ub2e4. \uadf8 \uc774\uc720\ub294 \ubb34\uc5c7\uc778\uac00?** \n",
      "###\uc124\uba85\n",
      "- e\uac00 d\ub97c \uac00\ub9ac\ud0a4\uace0 \uc788\uae30 \ub54c\ubb38\uc774\ub2e4.  \n",
      "    e\uc5d0\ub294 d\uc758 \uac12\uc774 \uc800\uc7a5\ub418\ub294 \uac83\uc774 \uc544\ub2c8\ub77c, d\uc758 \uc8fc\uc18c\uac12\uc774 \uc800\uc7a5\ub41c\ub2e4."
     ]
    },
    {
     "cell_type": "markdown",
     "metadata": {},
     "source": [
      "**2) \uc704 \ucf54\ub4dc\uc758 \uc218\ud589 \uacb0\uacfc \ub9c8\uc9c0\ub9c9 f\uc758 \ub0b4\uc6a9\uc740 \ub2e4\uc74c\uacfc \uac19\ub2e4. \uc774 \ub54c 'high' \ud0a4\uc758 \uac12 \ub0b4\uc6a9 \uc911 500\uc774 \ucd9c\ub825\ub41c \uc774\uc720\uc640 'low' \ud0a4\uc758 \uac12 \ub0b4\uc6a9 \uc911 [1, 2, 3]\uc774 \ucd9c\ub825\ub41c \uc774\uc720\ub97c \uc124\uba85\ud558\uc2dc\uc624.**  \n",
      "[hint] shallow copy \uad00\uc810\uc5d0\uc11c \uc124\uba85\ud558\uc2dc\uc624.\n",
      "\n",
      "    {'high': [4, 500, 6], 'low': [1, 2, 3]}  \n",
      "###\uc124\uba85\n",
      "- f\ub294 d.copy()\ub418\uc5b4 d\ub85c\ubd80\ud130 shallow copy\uac00 \ub41c\ub2e4.  \n",
      "    \ub530\ub77c\uc11c, 'low'\uc5d0 L1 \uac1d\uccb4, 'high\"\uc5d0 L2 \uac1d\uccb4\uac00 \ub300\uc751\ub41c\ub2e4.  \n",
      "  \n",
      "  \n",
      "- d['low'] = [10, 20, 30]\ub97c \uc2e4\ud589\ud558\uba74, d\uc758 'low'\uc5d0 [10, 20, 30]\uc774 \ub300\uc751\ub41c\ub2e4.  \n",
      "    \uc774\ub54c, f\uc758 'low'\ub294 \uc5ec\uc804\ud788 L1\uc744 \uac00\ub9ac\ud0a4\ubbc0\ub85c [1, 2, 3]\uc774\ub2e4.  \n",
      "  \n",
      "  \n",
      "- d['high'][1] = 500\ub97c \uc2e4\ud589\ud558\uba74, \uac1d\uccb4 d\uc758 'high'\uac00 \uac00\ub9ac\ud0a4\uace0 \uc788\ub294 L2\uac1d\uccb4\uc758 [1]\uac12\uc774 500\uc73c\ub85c \ubc14\ub00c\uac8c \ub41c\ub2e4.  \n",
      "    \uc774\ub54c, f\uc758 'high' \uc5ed\uc2dc L2\uac1d\uccb4\ub97c \uac00\ub9ac\ud0a4\uace0 \uc788\uc73c\ubbc0\ub85c, f['high'][1]\ub3c4 500\uc73c\ub85c \ubc14\ub00c\uac8c \ub41c\ub2e4."
     ]
    },
    {
     "cell_type": "markdown",
     "metadata": {},
     "source": [
      "-----\n",
      "###**7. \uc0ac\uc804 d = {'one':1, 'two':2, 'three':3, 'four':4, 'five':5}\uac00 \uc8fc\uc5b4\uc84c\uc744 \ub54c \ub2e4\uc74c \uc694\uad6c\uc0ac\ud56d\uc5d0 \ub9de\ub294 \ucf54\ub4dc\ub97c \uc81c\uc2dc\ud558\uc2dc\uc624.**\n",
      "[\ucc38\uace0]: d.keys(), d.values()\ub97c \ud1b5\ud574 \ub9ac\uc2a4\ud2b8\ub97c \uc5bb\uc5b4\ub0b8 \ud6c4 \ub9ac\uc2a4\ud2b8\uac00 \uc9c0\ub2c8\uace0 \uc788\ub294 sort(cmp=None, key=None, reverse=False)\ud568\uc218\ub97c \ud65c\uc6a9\ud558\uc2dc\uc624.\n",
      "\n",
      "**    1) \ud0a4\uc758 \uc54c\ud30c\ubcb3 \uc624\ub984\ucc28\uc21c \uc21c\uc11c\ub300\ub85c \ud29c\ud50c (\ud0a4, \uac12)\uc744 \ucc28\ub840\ub300\ub85c \ucd9c\ub825\ud558\uc2dc\uc624.**  \n",
      "**    2) \ud0a4\uc758 \uc54c\ud30c\ubcb3 \ub0b4\ub9bc\ucc28\uc21c \uc21c\uc11c\ub300\ub85c \ud29c\ud50c (\ud0a4, \uac12)\uc744 \ucc28\ub840\ub300\ub85c \ucd9c\ub825\ud558\uc2dc\uc624.**  \n",
      "**    3) \uac12\uc758 \uc624\ub984\ucc28\uc21c \uc21c\uc11c\ub300\ub85c \ud29c\ud50c (\ud0a4, \uac12)\uc744 \ucc28\ub840\ub300\ub85c \ucd9c\ub825\ud558\uc2dc\uc624.**  \n",
      "**    4) \uac12\uc758 \ub0b4\ub9bc\ucc28\uc21c \uc21c\uc11c\ub300\ub85c \ud29c\ud50c (\ud0a4, \uac12)\uc744 \ucc28\ub840\ub300\ub85c \ucd9c\ub825\ud558\uc2dc\uc624.**  \n"
     ]
    },
    {
     "cell_type": "code",
     "collapsed": false,
     "input": [
      "d = {'one':1, 'two':2, 'three':3, 'four':4, 'five':5}\n",
      "\n",
      "item_list = d.items()\n",
      "\n",
      "item_list.sort(key=lambda item:item[0])\n",
      "print item_list\n",
      "\n",
      "item_list.sort(key=lambda item:item[0], reverse=True)\n",
      "print item_list\n",
      "\n",
      "item_list.sort(key=lambda item:item[1])\n",
      "print item_list\n",
      "\n",
      "item_list.sort(key=lambda item:item[1], reverse=True)\n",
      "print item_list"
     ],
     "language": "python",
     "metadata": {},
     "outputs": [
      {
       "output_type": "stream",
       "stream": "stdout",
       "text": [
        "[('five', 5), ('four', 4), ('one', 1), ('three', 3), ('two', 2)]\n",
        "[('two', 2), ('three', 3), ('one', 1), ('four', 4), ('five', 5)]\n",
        "[('one', 1), ('two', 2), ('three', 3), ('four', 4), ('five', 5)]\n",
        "[('five', 5), ('four', 4), ('three', 3), ('two', 2), ('one', 1)]\n"
       ]
      }
     ],
     "prompt_number": 14
    },
    {
     "cell_type": "markdown",
     "metadata": {},
     "source": [
      "###\uc124\uba85\n",
      "- iteams()\ub97c \ud1b5\ud574, \uac01 \uc544\uc774\ud15c\uc744 \ud29c\ud50c \ud615\ud0dc\ub85c \uac00\uc838\uc640 \ub9ac\uc2a4\ud2b8\ub85c \ub9cc\ub4e0\ub2e4.  \n",
      "- \uadf8\ub9ac\uace0 \ub9ac\uc2a4\ud2b8\uc758 sort()\ub97c \uc774\uc6a9\ud574 \uc815\ub82c\uc744 \ud55c\ub2e4.  \n",
      "- key\ub294 \ube44\uad50\ub97c \ud560 \uac12\uc744 \ub098\ud0c0\ub0b4\uace0, reverse\ub294 \uc21c\ud589, \uc5ed\ud589 \uc815\ub82c\uc744 \uc120\ud0dd\ud560 \uc218 \uc788\ub2e4.  "
     ]
    },
    {
     "cell_type": "markdown",
     "metadata": {},
     "source": [
      "-----\n",
      "###**8. \uc774\uc804 Assignment 2\uc758 \ub9c8\uc9c0\ub9c9 \ubb38\uc81c\ub294 \uc6f9 URL\ub85c \uc9c0\uc815\ub41c \uc6f9\ud398\uc774\uc9c0\ub97c \ubb38\uc790\uc5f4\ub85c \uac00\uc838\uc640 \ubaa8\ub4e0 HTML \ud0dc\uadf8 \ubc0f CSS\uc640 Javascript\ub97c \uc81c\uc678\ud55c \uc21c\uc218 \ud14d\uc2a4\ud2b8\ub97c \uc5bb\uc5b4\ub0b4\uace0 \uadf8 \uc548\uc5d0 \uc874\uc7ac\ud558\ub294 \ub2e8\uc5b4\ub97c \ucd94\ucd9c\ud558\ub294 \ud504\ub85c\uadf8\ub7a8\uc744 \uc791\uc131\ud558\ub294 \uac83\uc774\uc5c8\ub2e4. \uc774\ubc88\uc5d0\ub294 \uadf8 \ub9c8\uc9c0\ub9c9 \uc219\uc81c\ub97c \uadf8\ub300\ub85c \ud655\uc7a5\ud558\uc5ec \uc6f9 URL\ub85c \uc9c0\uc815\ub41c \uc6f9\ud398\uc774\uc9c0 \ub0b4 \uc21c\uc218 \ud14d\uc2a4\ud2b8 \uc548\uc5d0 \uc874\uc7ac\ud558\ub294 \uac01 \ub2e8\uc5b4\ub4e4\uc5d0 \ub300\ud574 \ub2e4\uc74c \uc694\uad6c\uc0ac\ud56d \ub300\ub85c \ucd9c\ub825\ud558\ub294 \ud504\ub85c\uadf8\ub7a8\uc744 \uc791\uc131\ud558\uc2dc\uc624.**\n",
      "- \uc694\uad6c\uc0ac\ud56d 1. \uc21c\uc218 \ud14d\uc2a4\ud2b8 \uc548\uc5d0 \uc874\uc7ac\ud558\ub294 \ub2e8\uc5b4\ub4e4\uc5d0 \ub300\ud574 string \ubaa8\ub4c8\uc744 \ud65c\uc6a9\ud558\uc5ec \ubaa8\ub4e0 punctuation (\uad6c\ub450\ubb38\uc790)\ub97c \uc644\ubcbd\ud788 \uc81c\uac70\ud558\uc2dc\uc624 (\uad50\uc7ac 166\ud398\uc774\uc9c0 \ucc38\uace0).\n",
      "    - \uc608: ['world!', ':', '+hello+', '~python$$$', '=', 'world'] ---> ['world', 'hello', 'python', 'world']\n",
      "- \uc694\uad6c\uc0ac\ud56d 2. \uac01 \ub2e8\uc5b4\ub4e4\uc758 \ucd9c\ud604\ube48\ub3c4\ub97c \uc0ac\uc804\ud615\ud0dc\ub85c \uc800\uc7a5\ud558\uc5ec \ucd9c\ub825\ud558\uc2dc\uc624.  \n",
      "    - \uc608: ['world', 'hello', 'python', 'world'] ---> {'world': 2, 'hello': 1, 'python': 1}\n",
      "\n"
     ]
    },
    {
     "cell_type": "code",
     "collapsed": false,
     "input": [
      "import urllib\n",
      "import string\n",
      "\n",
      "s = urllib.urlopen('http://cse.kut.ac.kr/').read()\n",
      "temp_result = []\n",
      "open_cnt = 0\n",
      "close_cnt = 0\n",
      "is_in_par = False;\n",
      "is_style_script = False;\n",
      "range_s = range(len(s));\n",
      "for k in range_s:\n",
      "\tif is_in_par:\n",
      "\t\tif s[k] == '>':\n",
      "\t\t\tclose_cnt = close_cnt + 1\n",
      "\t\t\tif s.startswith('/style', k-6) or s.startswith('/STYLE', k-6) or\\\n",
      "\t\t\ts.startswith('/script', k-7) or s.startswith('/SCRIPT', k-7) :\n",
      "\t\t\t\tis_style_script = False;\n",
      "\t\t\tif open_cnt == close_cnt:\n",
      "\t\t\t\tis_in_par = False\n",
      "\t\t\tcontinue\n",
      "\t\telif s[k] == '<':\n",
      "\t\t\topen_cnt = open_cnt + 1\n",
      "\t\telse:\n",
      "\t\t\tcontinue\n",
      "\telse: # not in par\n",
      "\t\tif s[k] == '<':\n",
      "\t\t\ttemp_result.append(' ')\n",
      "\t\t\topen_cnt = open_cnt + 1\n",
      "\t\t\tis_in_par = True\n",
      "\t\t\tif s.startswith('style', k+1) or s.startswith('STYLE', k+1) or\\\n",
      "\t\t\ts.startswith('script', k+1) or s.startswith('SCRIPT', k+1) :\n",
      "\t\t\t\tis_style_script = True;\n",
      "\t\t\tcontinue\n",
      "\t\telse:\n",
      "\t\t\tif is_style_script:\n",
      "\t\t\t\tcontinue\n",
      "\t\t\telse:\n",
      "\t\t\t\ttemp_result.append(s[k])\n",
      "result = ''.join(temp_result)\n",
      "\n",
      "\n",
      "# \uc5ec\uae30\ubd80\ud130 \uc0c8\ub85c \uc9e0 \ucf54\ub4dc\n",
      "\n",
      "# \ub2e8\uc5b4\uc758 \uad6c\ub450\uc810 \uc81c\uac70 \ubc0f \uae38\uc774\uac00 0\uc778 \ub2e8\uc5b4 \uc81c\uac70\n",
      "dic = result.split()\n",
      "new_dic = []\n",
      "for word in dic:\n",
      "    word_temp = []\n",
      "    word_temp2 = ''\n",
      "    for ch in word:\n",
      "        if ch not in string.punctuation:\n",
      "            word_temp.append(ch)\n",
      "    word_temp2 = ''.join(word_temp)\n",
      "    #word_temp2.strip('\\t\\r\\n ')\n",
      "    if len(word_temp2) == 0:\n",
      "        continue\n",
      "    else:\n",
      "        new_dic.append(word_temp2)\n",
      "\n",
      "# \uc0ac\uc804\uc73c\ub85c \uc7ac\uad6c\uc131\n",
      "new_result = {}\n",
      "for word in new_dic:\n",
      "    new_result[word] = new_dic.count(word)\n",
      "\n",
      "# \uacb0\uacfc \ucd9c\ub825\n",
      "print '{',;\n",
      "for key in new_result.keys():\n",
      "    print \"'%s':%s,\" % (key, new_result[key]),;\n",
      "print '}'"
     ],
     "language": "python",
     "metadata": {},
     "outputs": [
      {
       "output_type": "stream",
       "stream": "stdout",
       "text": [
        "{ '\uc785\uc2dcQA':1, '\ucef4\ud4e8\ud130\uc2dc\uc2a4\ud15c\uc751\uc6a9':1, '\ucd5c':1, '\uc601\uc5b4\ubc1c\ud45c':1, 'nbsp':1, '\uacf5\uc9c0\uc0ac\ud56d':1, '2013\ub144':1, '\uc8fc\uc2e0\uc9c4\uc5e0\ud14d':1, '\uc5f0\uad6c\uc2e4\uc18c\uac1c':1, '\ubc1c\ud45c':1, '\ubaa8\uc9d1\uc694\uac15':1, '\ucde8\uc5c5\uac8c\uc2dc\ud310':1, '\uad6d\ub0b4':1, '\uc778\ub825':1, '\uc9c4\ud654\ud558\ub294':1, '\ub18d\uad6c':1, 'KBS':1, '\uacfc':1, '\uc5d1\uc2dc\ucf58':1, '\ud2b9\ud5c8\uc804\uc7c1\ubaa8\ubc14\uc77c':1, '20140616':1, '\ucd5c\ucd08':1, '\uac15\uc758\uc790\ub8cc\uc2e4':1, '20140327':1, '\uc878\uc5c5\uc791\ud488':6, '\uc8fc\uc5e0\ud504\ub860\ud2f0\uc5b4':1, '\uc878\uc5c5':1, '2015\ub144':1, '\ucd5c\ucd08\uc5d0\uc11c':1, '\ub3d9\ubb38\uac8c\uc2dc\ud310':1, '\uae40\uc7ac\uc6b0\ucc98\uc7a5':1, '\ub514\uc9c0\ud138':1, '\ucd5c\uc885\uacb0\uacfc':1, '20131007':1, '20140806':1, '\ubbf8\ub798':1, '\uaf2d':1, '\uad50\uc218\uc9c4':1, '\ud559\ubd80\uc0ac\uc9c4\uac94\ub7ec\ub9ac':1, '\uc704\ud55c':1, '\uc878\uc5c5\uc791\ud488\ube0c\ub85c\uc154':1, '\uc0c1\ubc18\uae30':1, '\ud559\uc0dd\ud68c':1, '4\ub300':1, 'C':1, '\ud22c\ud45c':1, '\uac1c\ucd5c':1, '\ud3ec\uc2a4\ud130\ubc1c\ud45c\uacbd\uc9c4\ub300\ud68c':1, '\uad6c':2, '\uc0bc\uc131':1, '\uacf5\uc9c02014\ub144':1, '\uad6d\uac10':1, '\ucc38\uac00\uc9c0\uc6d0':1, '\uae34\uae09':1, '\uc0ac\uc9c4\uac8c\uc2dc\ud310':1, '\uacf5\ud559\uc778\uc99d\uc548\ub0b4':1, '\ucef4\ud4e8\ud130SW':1, 'ULTE':1, '\ud559\uc0dd\ub4e4\uc744':1, '\uad50\uc721\ubaa9\ud45c':1, '20120909':1, '\uc778':1, '\ucde8\uc5c5\uc870\uc0ac2013':1, '\ubd88\ucd9c\uacf5\uc9c0\uc785\ub2c8\ub2e4':1, '\ucde8\uc5c5\uc870\uc0ac2014':1, '\uc775\uba85\uac8c\uc2dc\ud310':1, '20141001':2, '20141006':2, '20141007':6, '20141004':1, '\uc9c0\ub3c4':1, '\uc138\ub9bc\ud2f0\ub124\uc2a4\uc9c0\uc8fc':1, '20140418':1, '\ucef4\ud4e8\ud130':1, '\uc6b4\uc601\uac1c\ubc1c':1, '\ucc3e\uc544\uc624\uc2dc\ub294\uae38':1, '20121105':1, '\uc7a5\ud559\uc81c\ub3c4':1, '\ud648\ud398\uc774\uc9c0':1, '2014\ub144':3, '\ub9c8\uac10':1, '\ub808\ub4dc\ud587':1, '\uccad\ub144\uc778\ud134':1, '\uc7a0\ubc14':1, '\uc804\uc2dc\ud68c':1, '2':1, '\ud559\ud68c\uc7a5\ubd80\ud559':1, '\u2018\uae30\uac00':1, '\ucc4c\ub9b0\uc9c0':1, '\uc124\uacc41':1, 'IT\uacbd\uc9c4\ub300\ud68c':1, '\u2019\uc218\uc2e0\ub8cc':1, '\uc790\uc720\uac8c\uc2dc\ud310':1, '20131210':1, '\ud1b5\uc2e0\uc7a5\uc560':1, '\uacf5\uace0':1, '\uc548\ub0b4':1, '\ud604\uc7a52004\ub144\ubd80\ud130':1, '\ub300\ud559\uc6d0\uc18c\uac1c':1, '\uacbd\uc9c4\ub300\ud68c':1, '20140915':1, '\uc18c\ud504\ud2b8\uc6e8\uc5b4':2, '12\uc77c':1, '\uc544\uc77c\ub79c\ub4dc\u2019':1, 'KT':1, '\uc2dc\uc2a4\ud15c':3, '30':1, '\ucef4\ud4e8\ud130HW':1, '\uc11c\uc2dd\ubc0f\uc591\uc2dd\uc790\ub8cc\uc2e4':1, '\ud64d\uc9c4\ud45c':1, '\ucef4\ud4e8\ud130\uacf5\ud559\ubd80':6, '\uc2e4\uc2b5\uc870\uad50':1, '\ud2b9\uc131\ud654\uc0ac\uc5c5\ub2e8':1, '20140923':2, '\ub300\ud559\uc6d0\uac8c\uc2dc\ud310':1, '20140925':4, 'LG':1, '\uc7ac\uacf5\uc9c0':1, '\uc81c':1, '\ud3ec':1, '\uc77c\ubc18\uc790\ub8cc\uc2e4':1, '\ud559\ubd80\uc0ac\ubb34\uc2e4':1, '\uacf5\ud559\uc778\uc99d\uac8c\uc2dc\ud310':1, '\ubbf8\ub9ac\ubcf4\ub294':1, '\ube0c\ub85c\uc154':1, '\uc878\uc5c5\uc774\uc218\uc694\uac74':1, '\uacf5\ud559\uc124\uacc4':2, '\uac80\ud1a0':1, '20140930':1, '\ucef4\ud4e8\ud130\uc2a4\ub9c8\ud2b8IT':1, '\uace0\uc7a5\uc2e0\uace0\uac8c\uc2dc\ud310':1, '\ucc44\uc6a9':2, '\uc815\ubcf4':1, '\uac1c\ubc1c\ubcf4\uc548':1, '\uae30\uc220\uc601\uc5c5':1, '\uc2a4\uc2b9':1, '\uad50\uc218\ub2d8\uc758':1, '\ud639\uc2dc':1, }\n"
       ]
      }
     ],
     "prompt_number": 15
    },
    {
     "cell_type": "markdown",
     "metadata": {},
     "source": [
      "###**\uc124\uba85**\n",
      "- \uae30\uc874 \uc18c\uc2a4\uc5d0 \uad6c\ub450\uc810\uc744 \uc81c\uac70\ud558\ub294 \ubd80\ubd84, \ub2e8\uc5b4 \uae38\uc774\uac00 0\uc778 \ub2e8\uc5b4\ub97c \uc81c\uac70\ud558\ub294 \ubd80\ubd84\uc744 \ucd94\uac00\ud588\ub2e4.\n",
      "- \ub0a8\uc740 \ub2e8\uc5b4\ub97c \uc0ac\uc804\uc73c\ub85c \uc7ac\uad6c\uc131\ud588\ub2e4. \uc774 \ub54c, \ub2e8\uc5b4\uc758 \uc218\ub294 \ub9ac\uc2a4\ud2b8\uc758 \uae30\ubcf8 \uba54\uc18c\ub4dc\uc778 count()\ub97c \uc774\uc6a9\ud588\ub2e4.\n",
      "- \uacb0\uacfc\ub97c \ucd9c\ub825\ud55c\ub2e4. \uc77c\ubc18\uc801\uc778 \ucd9c\ub825 \ubc29\ubc95\uc744 \uc774\uc6a9\ud560 \uacbd\uc6b0, \ud55c\uae00\uc774 \ub098\ud0c0\ub098\uc9c0 \uc54a\uc544\uc11c \uc704\uc758 \uc18c\uc2a4\uc640 \uac19\uc774 \ucd9c\ub825 \ubd80\ubd84\uc744 \ub530\ub85c \ub9cc\ub4e4\uc5b4\uc8fc\uc5c8\ub2e4."
     ]
    },
    {
     "cell_type": "markdown",
     "metadata": {},
     "source": [
      "-----\n",
      "###**COMMENT**"
     ]
    },
    {
     "cell_type": "markdown",
     "metadata": {},
     "source": [
      "- \uc775\uc219\uce58 \uc54a\uc740 \uba54\uc18c\ub4dc\ub97c \uc5ec\uae30 \uc800\uae30\uc11c \ucc3e\uc544\uac00\uba70 \uacfc\uc81c\ub97c \ud574\uacb0\ud574\uc11c \uaf64 \uae34 \uc2dc\uac04\uc774 \uac78\ub838\ub2e4. \ubb38\uc81c \ud574\uacb0 \uc2dc\uac04 + ipython notebook \uc791\uc131 \uc2dc\uac04\uae4c\uc9c0 \ud569\uce58\ub2c8 \uc2dc\uac04\uc774 \ub9cc\ub9cc\uce58 \uc54a\uac8c \uac78\ub838\ub2e4. \uc774 \uacfc\uc81c\ubcf4\ub2e4 \ud6e8\uc52c \uae34 \uac15\uc758\uc790\ub8cc\ub97c \uc900\ube44\ud558\uc2dc\ub294 \uad50\uc218\ub2d8\uc774 \ucc38 \ub300\ub2e8\ud558\uc2e0 \uac83 \uac19\ub2e4. \ud798\ub4e4\uace0 \uace8\uce58\ub3c4 \uc544\ud320\uc9c0\ub9cc \uacfc\uc81c\ub97c \ud574\uacb0\ud558\uba74\uc11c \uc0c8\ub85c\uc6b4 \uc5b8\uc5b4\ub97c \ubc30\uc6b0\ub294 \uae30\uc068\uc744 \ub290\ub084 \uc218 \uc788\uc5c8\uace0, \uc5b4\ub824\uc6b4 \ubb38\uc81c\ub97c \ud574\uacb0\ud558\uace0\ub098\uc11c\uc758 \ud76c\uc5f4\ub3c4 \ub9db\ubcfc \uc218 \uc788\uc5c8\ub2e4.\n",
      "- \ub9c8\uc9c0\ub9c9 \ubb38\uc81c\uac00 \uc544\uc8fc \uc5b4\ub824\uc6b8 \uac83\uc774\ub77c\uace0 \uc608\uc0c1\ud588\ub294\ub370, python\uc5d0\uc11c \uc88b\uc740 \uba54\uc18c\ub4dc\ub4e4\uc744 \uc81c\uacf5\ud574\uc8fc\uace0 \uc788\uc5b4\uc11c \uc0dd\uac01\ubcf4\ub2e4 \uac04\ub2e8\ud788 \uc9e4 \uc218 \uc788\uc5c8\ub2e4. \uadf8\ub7ec\ub098 \uc2e4\ud589\uc18d\ub3c4\ub294 \uadf8\ub2e4\uc9c0 \ube60\ub97c \uac83 \uac19\uc9c0\ub294 \uc54a\ub2e4. \uc2e4\ud589 \uc18d\ub3c4\ub294 \ub290\ub9ac\uc9c0\ub9cc \uc6d0\ud558\ub294 \ub2f5\uc744 \uc27d\uac8c \uc5bb\uc744 \uc218 \uc788\ub2e4\ub294 \uc810\uc5d0\uc11c \ub9ce\uc740 \uc5f0\uad6c\uc5d0\uc11c python\uc774 \uc4f0\uc774\ub294 \uc774\uc720\ub97c \uacf5\uac10\ud560 \uc218 \uc788\uc5c8\ub2e4.\n",
      "- \uc544\uc9c1 python\uc774 \ud55c\uae00 \ucc98\ub9ac\uac00 \ub9e4\ub044\ub7fd\uc9c0 \uc54a\uc740 \uac83 \uac19\ub2e4. \uc790\uafb8 \ubb38\uc790\uc5f4\uc744 \ucd9c\ub825\ud560 \ub54c, \uc720\ub2c8\ucf54\ub4dc\uc778\uc9c0 utf-8 \ucf54\ub4dc\uc778\uc9c0 \ucf54\ub4dc \uadf8\ub300\ub85c \ucd9c\ub825\ub418\uc5b4 \uc9dc\uc99d\uc774 \ub09c\ub2e4. \uc774 \ubd80\ubd84\uc740 \uc55e\uc73c\ub85c \uac1c\uc120\ub418\uc5c8\uc73c\uba74 \uc88b\uaca0\ub2e4.\n",
      "- \uae30\ub2a5\uc774 \uac15\ub825\ud55c \ub9cc\ud07c, \uc678\uc6cc\uc57c \ud560 \uac83\ub3c4 \ub9ce\ub2e4..."
     ]
    }
   ],
   "metadata": {}
  }
 ]
}