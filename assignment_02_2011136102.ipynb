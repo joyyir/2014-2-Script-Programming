{
 "metadata": {
  "name": "",
  "signature": "sha256:3bb5e164099d3cd152ee116b4f4a814190f58f839f574f340e9ce1348bd2042c"
 },
 "nbformat": 3,
 "nbformat_minor": 0,
 "worksheets": [
  {
   "cells": [
    {
     "cell_type": "markdown",
     "metadata": {},
     "source": [
      "Script Programming Assignment - 02\n",
      "======\n",
      "###\u3000\u3000\u3000\u3000\u3000\u3000\u3000\u3000\u3000\u3000\u3000\u3000\u3000\u3000\u3000\u3000\u3000\u3000\u3000\u3000\u3000\u3000\u3000\u3000\u3000\u3000\u3000\u3000\u3000\u3000\u3000\u3000\ud55c\uc5f0\ud76c \uad50\uc218\ub2d8 / 1\ubd84\ubc18\n",
      "###\u3000\u3000\u3000\u3000\u3000\u3000\u3000\u3000\u3000\u3000\u3000\u3000\u3000\u3000\u3000\u3000\u3000\u3000\u3000\u3000\u3000\u3000\u3000\u3000\u3000\u3000\u3000\u3000\u3000\u3000\u3000\u3000\ucef4\ud4e8\ud130\uacf5\ud559\ubd80 / 2011136102 / \uc7a5\uc900\uc601\n",
      "###\u3000\u3000\u3000\u3000\u3000\u3000\u3000\u3000\u3000\u3000\u3000\u3000\u3000\u3000\u3000\u3000\u3000\u3000\u3000\u3000\u3000\u3000\u3000\u3000\u3000\u3000\u3000\u3000\u3000\u3000\u3000\u3000\uc81c\ucd9c\uc77c : 2014. 9. 25. (\ubaa9)"
     ]
    },
    {
     "cell_type": "markdown",
     "metadata": {},
     "source": [
      "-----\n",
      "###**1. \ub2e4\uc74c 6 \uac1c\uc758 Expression\uc5d0 \ub300\ud574 Evaluation \uacb0\uacfc \uac12\uc744 \ucd9c\ub825\ud558\uace0, \ud574\ub2f9 \uacb0\uacfc\uac00 \ub098\uc628 \uc774\uc720\uc5d0 \ub300\ud574 \uc124\uba85\ud558\uc2dc\uc624.**\n",
      "- 1 and 2 and 3 and 4\n",
      "- 1 or 2 or 3 or 4\n",
      "- 1 and 2 or 3 and 4\n",
      "- (1 and 2) or (3 and 4)\n",
      "- 1 or 2 and 3 or 4\n",
      "- (1 or 2) and (3 or 4)"
     ]
    },
    {
     "cell_type": "code",
     "collapsed": false,
     "input": [
      "print 1 and 2 and 3 and 4\n",
      "print 1 or 2 or 3 or 4\n",
      "print 1 and 2 or 3 and 4\n",
      "print (1 and 2) or (3 and 4)\n",
      "print 1 or 2 and 3 or 4\n",
      "print (1 or 2) and (3 or 4)"
     ],
     "language": "python",
     "metadata": {},
     "outputs": [
      {
       "output_type": "stream",
       "stream": "stdout",
       "text": [
        "4\n",
        "1\n",
        "2\n",
        "2\n",
        "1\n",
        "3\n"
       ]
      }
     ],
     "prompt_number": 22
    },
    {
     "cell_type": "markdown",
     "metadata": {},
     "source": [
      "###**\uc124\uba85**\n",
      "\n",
      "1) \ub17c\ub9ac \uc5f0\uc0b0\uc790\uc758 \uc5f0\uc0b0 \ubc29\uc2dd\n",
      "- x and y : x\uac00 \ucc38\uc774\uba74 y, \uc544\ub2c8\uba74 x\n",
      "- x or y  : x\uac00 \ucc38\uc774\uba74 x, \uc544\ub2c8\uba74 y\n",
      "\n",
      "2) \ub17c\ub9ac \uc5f0\uc0b0\uc790\uc758 \uc6b0\uc120 \uc21c\uc704\n",
      "- and \uc5f0\uc0b0\uc774 or \uc5f0\uc0b0\ubcf4\ub2e4 \uc6b0\uc120\uc21c\uc704\uac00 \ub192\ub2e4.\n",
      " \n",
      "3) \uc5f0\uc0b0\uc758 \ubc29\ud5a5\n",
      "- \uc5f0\uc0b0\uc740 \uc67c\ucabd\uc5d0\uc11c \uc624\ub978\ucabd\uc73c\ub85c \uc774\ub8e8\uc5b4\uc9c4\ub2e4.\n",
      "\n",
      "(1) 1 and 2 and 3 and 4  \n",
      "== (((1 and 2) and 3) and 4)  \n",
      "== ((2 and 3) and 4)  \n",
      "== (3 and 4)  \n",
      "== 4  \n",
      "\n",
      "(2) 1 or 2 or 3 or 4  \n",
      "== (((1 or 2) or 3) or 4)  \n",
      "== ((1 or 3) or 4)  \n",
      "== (1 or 4)  \n",
      "== 1\n",
      "\n",
      "(3) 1 and 2 or 3 and 4  \n",
      "== (1 and 2) or (3 and 4)  \n",
      "== 2 or 4  \n",
      "== 2  \n",
      "\n",
      "(4) (1 and 2) or (3 and 4)  \n",
      "== 2 or 4  \n",
      "== 2  \n",
      "\n",
      "(5) 1 or 2 and 3 or 4  \n",
      "== ((1 or (2 and 3)) or 4)  \n",
      "== ((1 or 3) or 4)  \n",
      "== 1 or 4  \n",
      "== 1\n",
      "\n",
      "(6) (1 or 2) and (3 or 4)  \n",
      "== 1 and 3  \n",
      "== 3"
     ]
    },
    {
     "cell_type": "markdown",
     "metadata": {},
     "source": [
      "-----\n",
      "###**2. 7/5, -7/5, -(7/5)\uc758 \uacb0\uacfc\ub97c \ud655\uc778\ud558\uace0 \uac01\uac01\uc758 \uacb0\uacfc\uac00 \uc65c \uadf8\ub807\uac8c \ub098\uc624\ub294 \uc9c0 \uc124\uba85\ud558\uc2dc\uc624.**\n",
      "[\ucc38\uace0] \ubaab\uc740 \ud56d\uc0c1 \uc74c\uc758 \ubb34\ud55c\ub300 \ubc29\ud5a5\uc73c\ub85c round up (\ubc18\uc62c\ub9bc) \ub41c\ub2e4\ub294 \uc810\uc744 \uae30\uc5b5\ud574\uc57c \ud568"
     ]
    },
    {
     "cell_type": "code",
     "collapsed": false,
     "input": [
      "print 7/5\n",
      "print -7/5\n",
      "print -(7/5)"
     ],
     "language": "python",
     "metadata": {},
     "outputs": [
      {
       "output_type": "stream",
       "stream": "stdout",
       "text": [
        "1\n",
        "-2\n",
        "-1\n"
       ]
      }
     ],
     "prompt_number": 23
    },
    {
     "cell_type": "markdown",
     "metadata": {},
     "source": [
      "###**\uc124\uba85**\n",
      "\n",
      "(1) 7/5  \n",
      "== (1.4\uc5d0\uc11c \uc74c\uc758 \ubb34\ud55c\ub300 \ubc29\ud5a5\uc73c\ub85c \ubc18\uc62c\ub9bc\ud55c \uc815\uc218)  \n",
      "== 1  \n",
      "\n",
      "(2) -7/5\n",
      "== (-1.4\uc5d0\uc11c \uc74c\uc758 \ubb34\ud55c\ub300 \ubc29\ud5a5\uc73c\ub85c \ubc18\uc62c\ub9bc\ud55c \uc815\uc218)  \n",
      "== -2  \n",
      "\n",
      "(3) -(7/5)  \n",
      "== -( (1.4\uc5d0\uc11c \uc74c\uc758 \ubb34\ud55c\ub300 \ubc29\ud5a5\uc73c\ub85c \ubc18\uc62c\ub9bc\ud55c \uc815\uc218) )  \n",
      "== -(1)\n",
      "== -1"
     ]
    },
    {
     "cell_type": "markdown",
     "metadata": {},
     "source": [
      "-----\n",
      "###**3. \ud0a4\ubcf4\ub4dc\ub85c \uc815\uc218\uac12\uc744 \uc785\ub825 \ubc1b\uace0 \uadf8 \uac12\uc774 \uc591\uc218\uc778\uc9c0 \uc74c\uc218\uc778\uc9c0\ub97c \ube44\ud2b8 \uc5f0\uc0b0\uc790\ub97c \uc774\uc6a9\ud558\uc5ec \ud310\ub2e8\ud558\ub294 \ud504\ub85c\uadf8\ub7a8\uc744 \uc791\uc131\ud558\uc2dc\uc624.**\n",
      "[\ucc38\uace0] \uac00\uc7a5 \uc67c\ucabd\uc5d0 \uc788\ub294 \ube44\ud2b8\uac00 0\uc774\uba74 \uc591\uc218\uc774\uba70, 1\uc774\uba74 \uc74c\uc218\uc774\ub2e4.\n"
     ]
    },
    {
     "cell_type": "code",
     "collapsed": false,
     "input": [
      "input = int(raw_input(\"Enter a integer number : \"))\n",
      "if (input):\n",
      "    if ((input >> 31) & 1):\n",
      "        print \"\uc74c\uc218 \uc785\ub2c8\ub2e4.\"\n",
      "    else:\n",
      "        print \"\uc591\uc218 \uc785\ub2c8\ub2e4.\"\n",
      "else:\n",
      "    print \"0 \uc785\ub2c8\ub2e4.\""
     ],
     "language": "python",
     "metadata": {},
     "outputs": [
      {
       "name": "stdout",
       "output_type": "stream",
       "stream": "stdout",
       "text": [
        "Enter a integer number : -30\n"
       ]
      },
      {
       "output_type": "stream",
       "stream": "stdout",
       "text": [
        "\uc74c\uc218 \uc785\ub2c8\ub2e4.\n"
       ]
      }
     ],
     "prompt_number": 24
    },
    {
     "cell_type": "markdown",
     "metadata": {},
     "source": [
      "###**\uc124\uba85**\n",
      "\n",
      "int\ud615\uc740 32\ube44\ud2b8 \uc790\ub8cc\ud615\uc774\ub2e4. 32\ubc88\uc9f8 \ube44\ud2b8\uc758 \uc218\ub294 MSB(Most Significant Bit)\ub85c\uc368, 0\uc77c \ub54c \uc591\uc218, 1\uc77c \ub54c \uc74c\uc218\ub97c \ub098\ud0c0\ub0b8\ub2e4.\n",
      "int\ud615 \uac12\uc5d0\uc11c 31\ubc88 \uc624\ub978\ucabd \uc26c\ud504\ud2b8 \uc5f0\uc0b0\uc744 \ud55c \ub2e4\uc74c, 1\uacfc \ube44\ud2b8 \ub2e8\uc704 AND \uc5f0\uc0b0\uc744 \ud558\uba74 MSB\uc758 \uac12\uc744 \uc54c \uc218 \uc788\ub2e4.\n",
      "\uadf8 \uac12\uc744 \ubc14\ud0d5\uc73c\ub85c \uc74c\uc218\uc640 \uc591\uc218\ub97c \ud310\ubcc4\ud55c\ub2e4."
     ]
    },
    {
     "cell_type": "markdown",
     "metadata": {},
     "source": [
      "-----\n",
      "###**4. \ub450 \uac1c\uc758 \ub9ac\uc2a4\ud2b8\ub97c \uc778\uc790\ub85c \ubc1b\uc544\uc11c \uadf8 \ub450 \uac1c\uc758 \ub9ac\uc2a4\ud2b8\uc5d0 \ub300\ud55c '\ud569\uc9d1\ud569'\uc744 \ubc18\ud658\ud558\ub294 \ud568\uc218 list_union(lista, listb)\ub97c \uc791\uc131\ud558\uc2dc\uc624.**\n",
      "- \uc778\uc790\ub85c \uc804\ub2ec\ud558\ub294 \ub9ac\uc2a4\ud2b8 2 \uac1c\uc5d0\ub294 \uc815\uc218\uac12\ub9cc \ub4e4\uc5b4\uac04\ub2e4\uace0 \uac00\uc815\ud558\uc790.  \n",
      "- \ud568\uc218 \ub0b4\uc5d0\uc11c \uc0c8\ub85c\uc6b4 \ub9ac\uc2a4\ud2b8\ub97c \ub9cc\ub4e4\uc5b4 \uadf8 \ub9ac\uc2a4\ud2b8 \ub0b4\uc5d0 \uc778\uc790\ub85c \ubc1b\uc740 \ub450 \ub9ac\uc2a4\ud2b8\uc758 \ubaa8\ub4e0 \uc6d0\uc18c\ub97c \ub123\uc5b4 \ubc18\ud658\ud55c\ub2e4.  \n",
      "- \ubc18\ud658\ud558\ub294 \ub9ac\uc2a4\ud2b8\uc5d0\ub294 \uc808\ub300\ub85c \uc911\ubcf5\ub41c \uc6d0\uc18c\uac00 \ub4e4\uc5b4 \uc788\uc73c\uba74 \uc548\ub41c\ub2e4 (\uc9d1\ud569\uc758 \uc870\uac74).  \n",
      "- \ubc18\ud658\ud558\ub294 \ub9ac\uc2a4\ud2b8\ub294 \uc815\ub82c\uc774 \ub418\uc5b4 \uc788\uc5b4\uc57c \ud55c\ub2e4.  \n",
      "- \ub2e4\uc74c\uacfc \uac19\uc740 \uc2e4\ud589 \ubc0f \ucd9c\ub825 \uacb0\uacfc\uac00 \ub3c4\ucd9c\ub418\uc5b4\uc57c \ud55c\ub2e4.  \n",
      "    - list_union([1, 2, 3], [1, 2, 4])  \n",
      "        - [1, 2, 3, 4]  \n",
      "    - list_union([-10, -5, 0, -1], [100, 9, 0, 9])  \n",
      "        - [-10, -5, -1, 0, 9, 100]  \n",
      "    - list_union([0, 1, 2], [0, 1, 2])  \n",
      "        - [0, 1, 2]  \n",
      "- [\ucc38\uace0] \ub9ac\uc2a4\ud2b8(l) \ub0b4\uc5d0 \uc0c8\ub85c\uc6b4 \uc815\uc218\uac12 (\uc608\ub97c \ub4e4\uc5b4 10)\uc744 \ub123\ub294 \ubc29\ubc95\uc740 l.append(10) \uc774\ub2e4.  \n",
      "- [\ucc38\uace0] \uc784\uc758\uc758 \uc815\uc218\uac12 (x)\uc774 \ub9ac\uc2a4\ud2b8 (l) \ub0b4\uc5d0 \uc874\uc7ac\ud558\ub294\uc9c0 \ud310\ub2e8\ud558\ub294 \ubc29\ubc95\uc740 x in l \uc774\ub2e4.  "
     ]
    },
    {
     "cell_type": "code",
     "collapsed": false,
     "input": [
      "def list_union(a, b):\n",
      "    c = a\n",
      "    for k in b:\n",
      "        if k not in c :\n",
      "            c.append(k)        \n",
      "    c.sort()\n",
      "    return c\n",
      "\n",
      "a = [-10, -5, 0, -1]\n",
      "b = [100, 9, 0, 9]\n",
      "c = list_union(a, b)\n",
      "print c"
     ],
     "language": "python",
     "metadata": {},
     "outputs": [
      {
       "output_type": "stream",
       "stream": "stdout",
       "text": [
        "[-10, -5, -1, 0, 9, 100]\n"
       ]
      }
     ],
     "prompt_number": 25
    },
    {
     "cell_type": "markdown",
     "metadata": {},
     "source": [
      "###**\uc124\uba85**\n",
      "1) c\uac00 a \ub9ac\uc2a4\ud2b8\ub97c \uac00\ub9ac\ud0a4\uac8c \ud55c\ub2e4.  \n",
      "2) c\uc5d0 b\uc758 \uc6d0\uc18c\ub4e4\uc744 \ub123\ub294\ub2e4. \uc774 \ub54c, \uc774\ubbf8 c\uc5d0 \ub4e4\uc5b4\uc788\ub294 \uc6d0\uc18c\ub294 \ub123\uc9c0 \uc54a\ub294\ub2e4.  \n",
      "3) c\ub97c \uc815\ub82c\ud55c\ub2e4.  \n",
      "4) c\ub97c \ub9ac\ud134\ud55c\ub2e4.  "
     ]
    },
    {
     "cell_type": "markdown",
     "metadata": {},
     "source": [
      "-----\n",
      "###**5. \uacbd\ub85c\uc5d0 \ud574\ub2f9\ud558\ub294 \ubb38\uc790\uc5f4 1\uac1c\ub97c \uc785\ub825 \ubc1b\uc544 \uadf8 \uc548\uc5d0 \ub514\ub809\ud1a0\ub9ac \uacbd\ub85c\uba85\uacfc \ud30c\uc77c\uba85\uc744 \ubd84\ub9ac\ud558\uc5ec \ub9ac\uc2a4\ud2b8\ub85c \ubc18\ud658\ud558\ub294 \ud568\uc218 div_path(s)\ub97c \uc791\uc131\ud558\uc2dc\uc624.**\n",
      "- \uc778\uc790\ub85c \uc804\ub2ec\ud558\ub294 \ubb38\uc790\uc5f4\uc740 \uacbd\ub85c\ub9cc \ub4e4\uc5b4\uac04\ub2e4\uace0 \uac00\uc815\ud55c\ub2e4.  \n",
      "- \uac01 \ub514\ub809\ud1a0\ub9ac\uc640 \ud30c\uc77c\uc744 \uad6c\ubd84\ud558\ub294 \ubb38\uc790\ub294 '/'\ub85c \uac00\uc815\ud55c\ub2e4.  \n",
      "- \ubc18\ud658\ud558\ub294 \ub9ac\uc2a4\ud2b8\uc758 \uccab\ubc88\uc9f8 \uc6d0\uc18c\ub294 \ub514\ub809\ud1a0\ub9ac\uc774\uace0 \ub450\ubc88\uc9f8 \uc6d0\uc18c\ub294 \ud30c\uc77c\uba85\uc774\ub2e4. \n",
      "- \ub2e4\uc74c\uacfc \uac19\uc740 \uc2e4\ud589 \ubc0f \ucd9c\ub825 \uacb0\uacfc\uac00 \ub3c4\ucd9c\ub418\uc5b4\uc57c \ud55c\ub2e4.  \n",
      "    - div_path('/usr/local/bin/python')  \n",
      "        - ['/usr/local/bin', 'python']  \n",
      "    - div_path('/home/chulsoo/test.txt')  \n",
      "        - ['/home/chulsoo', 'test.txt']  "
     ]
    },
    {
     "cell_type": "code",
     "collapsed": false,
     "input": [
      "def div_path(s):\n",
      "    s_range = range(len(s))\n",
      "    for k in s_range:\n",
      "        if s[k] == '/':\n",
      "            index = k\n",
      "    path = s[:index]\n",
      "    filename = s[index+1:]\n",
      "    return path, filename;\n",
      "a, b = div_path('/home/chulsoo/test.txt')\n",
      "print a\n",
      "print b"
     ],
     "language": "python",
     "metadata": {},
     "outputs": [
      {
       "output_type": "stream",
       "stream": "stdout",
       "text": [
        "/home/chulsoo\n",
        "test.txt\n"
       ]
      }
     ],
     "prompt_number": 26
    },
    {
     "cell_type": "markdown",
     "metadata": {},
     "source": [
      "###**\uc124\uba85**\n",
      "\ubb38\uc790\uc5f4\uc5d0\uc11c \uac00\uc7a5 \ub098\uc911\uc5d0 \ub098\uc624\ub294 '/'\ub97c \ucc3e\uc740 \ub2e4\uc74c, \uadf8 \ubb38\uc790\ub97c \uae30\uc900\uc73c\ub85c \uc55e\uc740 path, \ub4a4\ub294 filename\uc73c\ub85c \uad6c\ubd84\ud55c\ub2e4."
     ]
    },
    {
     "cell_type": "markdown",
     "metadata": {},
     "source": [
      "-----\n",
      "###**6. \uc6f9 URL\ub85c \uc9c0\uc815\ub41c \uc6f9\ud398\uc774\uc9c0\ub97c \ubb38\uc790\uc5f4\ub85c \uac00\uc838\uc640 1) \ubaa8\ub4e0 HTML \ud0dc\uadf8 \ubc0f CSS\uc640 Javascript\ub97c \uc81c\uc678\ud55c \uc21c\uc218 \ud14d\uc2a4\ud2b8\ub9cc\uc744 \ucd9c\ub825\ud558\uace0, 2) \uadf8 \uc21c\uc218 \ud14d\uc2a4\ud2b8 \uc548\uc5d0 \uc874\uc7ac\ud558\ub294 \ub2e8\uc5b4\uac00 \ucd1d \uba87\uac1c\uc778\uc9c0 \ucd9c\ub825\ud558\ub294 \ud504\ub85c\uadf8\ub7a8\uc744 \uc791\uc131\ud558\uc2dc\uc624.**\n",
      "\n",
      "- HTML \ud0dc\uadf8\ub294 \ub2e4\uc74c \uc870\uac74\uc744 \uac00\uc9c0\ub294 \uac83\uc774\ub2e4.  \n",
      "    - < \ub85c \uc2dc\uc791\ud558\uc5ec >\ub85c \ub05d\ub098\uac70\ub098 />\ub85c \ub05d\ub09c\ub2e4.  \n",
      "    - </ \ub85c \uc2dc\uc791\ud558\uc5ec > \ub85c \ub05d\ub09c\ub2e4.  \n",
      "- HTML \ubb38\uc11c \ub0b4\uc5d0 \uc874\uc7ac\ud558\ub294 CSS \uc0ad\uc81c\uc2dc \ucc38\uace0\ud560 \uc0ac\ud56d  \n",
      "    - `<style>` \ud639\uc740 `<STYLE>`\ub85c \uc2dc\uc791\ud55c\ub2e4.  \n",
      "    - `</style>` \ud639\uc740 `</STYLE>`\ub85c \ub05d\ub09c\ub2e4.  \n",
      "    - `<style>` (\ud639\uc740 `<STYLE>`)\uacfc `</style>` (\ud639\uc740 `</STYLE>`) \ub0b4\uc5d0 \uc874\uc7ac\ud558\ub294 CSS \ucf54\ub4dc\ub294 \ubaa8\ub450 \uc0ad\uc81c\ud55c\ub2e4.  \n",
      "    - HTML \ubb38\uc11c \ub0b4\uc5d0 \uc874\uc7ac\ud558\ub294 Javascript \uc0ad\uc81c\uc2dc \ucc38\uace0\ud560 \uc0ac\ud56d\n",
      "    - `<script>` \ud639\uc740 `<SCRIPT>`\ub85c \uc2dc\uc791\ud55c\ub2e4.  \n",
      "    - `</script>` \ud639\uc740 `</SCRIPT>`\ub85c \ub05d\ub09c\ub2e4.  \n",
      "    - `<script>` (\ud639\uc740 `<SCRIPT>`)\uacfc `</script>` (\ud639\uc740 `</SCRIPT>`) \ub0b4\uc5d0 \uc874\uc7ac\ud558\ub294 Javascript \ucf54\ub4dc\ub294 \ubaa8\ub450 \uc0ad\uc81c\ud55c\ub2e4.  \n",
      "- \uc989, CSS \ucf54\ub4dc\uc640 Javascript \ucf54\ub4dc\ub294 \ub2e8\uc5b4\uc758 \ucd1d\uc218\ub97c \uce74\uc6b4\ud2b8 \ud560 \ub54c \uace0\ub824\ud558\uc9c0 \uc54a\ub294\ub2e4.  \n",
      "- \ud55c\ud3b8, \ub2e4\uc74c\uc740 URL\ub85c \uc9c0\uc815\ub41c \uc6f9\ud398\uc774\uc9c0\ub97c \ud2b9\uc815 \ubb38\uc790\uc5f4\ub85c \uac00\uc838\uc624\ub294 \ucf54\ub4dc\uc774\ub2e4."
     ]
    },
    {
     "cell_type": "code",
     "collapsed": false,
     "input": [
      "import urllib\n",
      "s = urllib.urlopen('http://link.kut.ac.kr/').read()\n",
      "temp_result = []\n",
      "open_cnt = 0\n",
      "close_cnt = 0\n",
      "is_in_par = False;\n",
      "is_style_script = False;\n",
      "range_s = range(len(s));\n",
      "for k in range_s:\n",
      "    if is_in_par:\n",
      "        if s[k] == '>':\n",
      "            close_cnt = close_cnt + 1\n",
      "            if s.startswith('style', k-5) or s.startswith('STYLE', k-5) or\\\n",
      "            s.startswith('script', k-6) or s.startswith('SCRIPT', k-6) :\n",
      "                is_style_script = False;\n",
      "            if open_cnt == close_cnt:\n",
      "                is_in_par = False\n",
      "            continue\n",
      "        elif s[k] == '<':\n",
      "            open_cnt = open_cnt + 1\n",
      "        else:\n",
      "            continue\n",
      "    else: # not in par\n",
      "        if s[k] == '<':\n",
      "            open_cnt = open_cnt + 1\n",
      "            is_in_par = True\n",
      "            if s.startswith('style', k+1) or s.startswith('STYLE', k+1) or\\\n",
      "            s.startswith('script', k+1) or s.startswith('SCRIPT', k+1) :\n",
      "                is_style_script = True;\n",
      "            continue\n",
      "        else:\n",
      "            if is_style_script:\n",
      "                continue\n",
      "            else:\n",
      "                temp_result.append(s[k])\n",
      "result = ''.join(temp_result)\n",
      "print result\n",
      "print\n",
      "print '\ucd1d \ub2e8\uc5b4\uc758 \uc218 = ' + str(len(result.split()))"
     ],
     "language": "python",
     "metadata": {},
     "outputs": [
      {
       "output_type": "stream",
       "stream": "stdout",
       "text": [
        "\n",
        "\n",
        "  \n",
        "    LINK: Laboratory of Intelligent Networks at KoreaTech\n",
        "    \n",
        "    \n",
        "    \n",
        "    \n",
        "    \n",
        "    \n",
        "    \n",
        "     \n",
        "     \n",
        "    \n",
        "    \n",
        "\n",
        "    \n",
        "  \n",
        "  \n",
        "    \n",
        "      \n",
        "        \n",
        "          \n",
        "            facebook&nbsp;&nbsp;|&nbsp;&nbsp;thinkonweb &nbsp;&nbsp;&nbsp;\n",
        "          \n",
        "        \n",
        "      \n",
        "    \n",
        "    \n",
        "    \n",
        "    \n",
        "      \n",
        "        \n",
        "          \n",
        "            \n",
        "          \n",
        "        \n",
        "      \n",
        "    \n",
        "  \n",
        "    \n",
        "      \n",
        "      \t\n",
        "      \t\t\n",
        "      \t\tMain&nbsp;&nbsp;&nbsp;&nbsp;\n",
        "\t\t\tPeople &nbsp;&nbsp;&nbsp;&nbsp;  \n",
        "\t\t\tResearch &nbsp;&nbsp;&nbsp;&nbsp;  \n",
        "\t\t\tCourses &nbsp;&nbsp;&nbsp;&nbsp;  \n",
        "\t\t\tProjects &nbsp;&nbsp;&nbsp;&nbsp;  \n",
        "\t\t\tAwards &nbsp;&nbsp;&nbsp;&nbsp;  \n",
        "\t\t\tPublications &nbsp;&nbsp;&nbsp;&nbsp;  \n",
        "\t\t\tPatents & Standards &nbsp;&nbsp;&nbsp;&nbsp; \n",
        "\t\t\t Invited Talks &nbsp;&nbsp;&nbsp;&nbsp;\n",
        "\t\t\t Links \n",
        "          \n",
        "      \t\n",
        "      \n",
        "    \n",
        "    \n",
        "      \n",
        "        Social Networks\n",
        "        Delay-Tolerent Networks\n",
        "        Wireless Sensor Networks\n",
        "        LTE\n",
        "        Ubiquitous Computing\n",
        "        Web Service Computing\n",
        "        IPv4 / v6 Mobility\n",
        "        Next-Generation Internet\n",
        "      \n",
        "    \n",
        "    \n",
        "    \n",
        "\t  \n",
        "\t\t\n",
        "\t\t\t\t\n",
        "\t\t\t\t  - Introduction to LINK Lab. Click! \n",
        "\n",
        "                  - We are actively recruiting M.S. or Ph. D course students. Don't hesitate to contact Prof. Han! \n",
        "                \n",
        "\n",
        "\t\t\n",
        "\t  \n",
        "      \n",
        "        \n",
        "          \n",
        "            \n",
        "              \n",
        "                \n",
        "                  \n",
        "                    \n",
        "                      \n",
        "                        \n",
        "                          \n",
        "                            Anything in here will be replaced on browsers that support the canvas element\n",
        "                          \n",
        "                        \n",
        "                      \n",
        "                      \n",
        "                        \n",
        "                        The LINK lab. pursues research in next-generation networking technology at the Korea University of Technology and Education (KoreaTech).\n",
        "                        We are interested in distributed and self-organizing mechanisms to manage arbitrary networks through intelligent local actions of individual nodes/objects. Our current focus is on\n",
        "                        1) self-organizing sensor networks to spontaneously create impromptu network, assemble the network themselves, dynamically adapt to device failure and degradation, manage movement of nodes, and react to changes in task and network requirements, \n",
        "                    \t\t2) analysis on social networks configured by using node movement, communication patterns, friendship relation, etc., and apply the analysis results to enhance the efficiency of communication on various types of network, and\n",
        "                    \t\t3) distributed mobility management in LTE/SAE and future Internet to scatter data traffic flows and signaling messages to the whole networks, if possible edge networks.\n",
        "                        The laboratory, LINK, will serve as a bridge between academia and industry, providing both state-of-the-art research and instruction. LINK lab. is currently being sponsored by Samsung Electronics, National Research Foundation of Korea, Ministry of Knowledgement Economy, and ETRI.\n",
        "                        \n",
        "                      \n",
        "                    \n",
        "                  \n",
        "                  \n",
        "\n",
        "\n",
        "\n",
        "\n",
        "\n",
        "\n",
        "\n",
        "\n",
        "\n",
        "\n",
        "\n",
        "\n",
        "\n",
        "\n",
        "\n",
        "\n",
        "\n",
        "\n",
        "\n",
        "\n",
        "\n",
        "              \n",
        "            \n",
        "          \n",
        "        \n",
        "      \n",
        "    \n",
        "    \n",
        "      \n",
        "        \n",
        "          \n",
        "            Copyright &copy; 2014 LINK all rights reserved.\n",
        "            \n",
        "          \n",
        "        \n",
        "      \n",
        "    \n",
        "    \n",
        "  \n",
        "  \n",
        "\n",
        "\n",
        "\ucd1d \ub2e8\uc5b4\uc758 \uc218 = 262\n"
       ]
      }
     ],
     "prompt_number": 9
    },
    {
     "cell_type": "markdown",
     "metadata": {},
     "source": [
      "###**\uc124\uba85**\n",
      "1)  \n",
      "- \ubb38\uc790\uc5f4\uc744 \uc77d\ub2e4\uac00 '<'\ub97c \ub9cc\ub098\uba74 \uad04\ud638 \uc548\uc5d0 \uc788\ub2e4\ub294 \uc758\ubbf8\ub85c is_in_par\uc744 True\ub85c \ubc14\uafd4\uc900\ub2e4. '>'\ub97c \ub9cc\ub098\uae30 \uc804\uae4c\uc9c0\ub294 \uac12\uc744 \uc800\uc7a5\ud558\uc9c0 \uc54a\ub294\ub2e4.  \n",
      "- `<style>`\uc774\ub098 `<script>`\uc5d0\uc11c\ub294 `</style>`\uc774\ub098 `</script>`\ub97c \ub9cc\ub0a0 \ub54c\uae4c\uc9c0 \uac12\uc744 \uc800\uc7a5\ud558\uc9c0 \uc54a\uc544\uc57c\ud558\ubbc0\ub85c is_style_script\uac00 True\uc77c \ub54c\ub294 style\ubb38\uc774\ub098 script\ubb38 \uc548\uc5d0 \uc788\ub2e4\ub294 \uc758\ubbf8\ub85c, \uc774 \ub54c\ub294 \uac12\uc744 \uc800\uc7a5\ud558\uc9c0 \uc54a\uc558\ub2e4.\n",
      "- \ud55c\uacc4 : \ubb38\uc11c \ub0b4\uc5d0 \"< \uc791\uc5c5 \ubcf4\uace0\uc11c >\" \uac19\uc774, \ud0dc\uadf8\uac00 \uc544\ub2cc \ub0b4\uc6a9\ub3c4 \uc81c\uac70\ub41c\ub2e4.\n",
      "  \n",
      "2)  \n",
      "- \ucd5c\uc885\uc801\uc73c\ub85c result \ubb38\uc790\uc5f4\uc5d0 \uc800\uc7a5\ub41c \uacb0\uacfc\ub97c \uacf5\ubc31\uc73c\ub85c \uad6c\ubcc4\ud558\uc5ec \ub2e8\uc5b4\ub85c \uc790\ub978 \ub2e4\uc74c, \uadf8\uac83\ub4e4\uc758 \uc218\ub97c \uc14c\ub2e4."
     ]
    },
    {
     "cell_type": "markdown",
     "metadata": {},
     "source": [
      "-----\n",
      "###**COMMENT**"
     ]
    },
    {
     "cell_type": "markdown",
     "metadata": {},
     "source": [
      "- \ud30c\uc774\uc36c \ub0b4\uc5d0 \ub2e4\uc591\ud558\uace0 \uc720\uc6a9\ud55c \uba54\uc18c\ub4dc\uac00 \ub9ce\uc740\ub370 \uc798 \ud65c\uc6a9\ud558\uc9c0 \ubabb\ud558\uace0 \uc788\ub294 \uac83 \uac19\ub2e4. \ub610 \uc544\uc9c1 \uc775\uc219\ud558\uc9c0 \uc54a\uc544\uc11c \uc870\uae08\ub9cc \ubcf5\uc7a1\ud55c \ucf54\ub4dc\ub97c \uc9dc\ub824\uace0\ud574\ub3c4 \ubb38\ubc95\uc774\ub098 \uae30\ub2a5\ub4e4\uc774 \ub108\ubb34 \ud5f7\uac08\ub824\uc11c \ub9ce\uc774 \ud5e4\ub9f8\ub2e4.\n",
      "- 6\ubc88 \ubb38\uc81c\ub97c \uad6c\ud604\ud558\uae30\uac00 \uac00\uc7a5 \uae4c\ub2e4\ub85c\uc6e0\ub2e4. \uc77c\ubc18 HTML \ud0dc\uadf8\uc640 STYLE, SCRIPT \ud0dc\uadf8\ub97c \uad6c\ubd84\ud574\uc57c\ud588\uace0, <!--`<BR>`--> \uac19\uc740 \ucf54\ub4dc\ucc98\ub7fc, <>\ub0b4\uc5d0 \ub610\ub2e4\ub978 <>\uac00 \uc788\uc744 \uacbd\uc6b0, \uc774\uac83\uc744 \uc81c\uac70\ud558\uae30\uc704\ud574 \ubcc4\ub3c4\uc758 \uc870\uce58\ub97c \ucde8\ud574\uc918\uc57c\ub9cc \ud588\ub2e4. \ub9c9\uc0c1 \uc644\uc131\ud558\uace0\ub098\ub2c8, \ud30c\uc774\uc36c\uc774 \uc0c1\ub2f9\ud788 \uac15\ub825\ud55c \uc5b8\uc5b4\ub77c\ub294 \uac83\uc744 \uc54c \uc218 \uc788\uc5c8\ub2e4. \uc774\ub7f0 \uae30\ub2a5\uc744 \uc798 \uc774\uc6a9\ud558\uba74 \uc778\ud130\ub137\uc5d0 \uc788\ub294 \uc218\ub9ce\uc740 \ub370\uc774\ud130\ub4e4\uc744 \uac00\uacf5\ud574\uc11c \uc815\ubcf4\ub85c \ub9cc\ub4dc\ub294\ub370 \uc6a9\uc774\ud560 \uac83 \uac19\ub2e4.\n",
      "- \ud30c\uc774\uc36c\uc744 \uacf5\ubd80\ud560\uc218\ub85d C/C++ \uc5b8\uc5b4\uac00 \uadf8\ub9ac\uc6cc\uc9c4\ub2e4. \ud30c\uc774\uc36c\uac19\uc740 \uacbd\uc6b0\ub294 \uc735\ud1b5\uc131\uc740 \uc788\uc9c0\ub9cc \uc77c\uad00\uc131\uc774 \uc5c6\ub294 \ud0d3\uc5d0, \uadf8\ub9ac\uace0 \ub108\ubb34 \ub9ce\uc740 \uae30\ub2a5\uc774 \uc788\ub294 \ud0d3\uc5d0 \ub354\uc6b1 \uc5b4\ub835\uace0 \ud5f7\uac08\ub9ac\uac8c \ub290\uaef4\uc9c4\ub2e4."
     ]
    }
   ],
   "metadata": {}
  }
 ]
}