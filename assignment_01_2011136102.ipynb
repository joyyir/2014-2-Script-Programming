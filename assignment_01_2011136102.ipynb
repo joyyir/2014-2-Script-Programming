{
 "metadata": {
  "name": "",
  "signature": "sha256:577b7f1693aa24313a5bf006db32afd13e12bf845ec6c096670490a16c9ba304"
 },
 "nbformat": 3,
 "nbformat_minor": 0,
 "worksheets": [
  {
   "cells": [
    {
     "cell_type": "markdown",
     "metadata": {},
     "source": [
      "Script Programming Assignment - 01\n",
      "======\n",
      "###\u3000\u3000\u3000\u3000\u3000\u3000\u3000\u3000\u3000\u3000\u3000\u3000\u3000\u3000\u3000\u3000\u3000\u3000\u3000\u3000\u3000\u3000\u3000\u3000\u3000\u3000\u3000\u3000\u3000\u3000\u3000\u3000\ud55c\uc5f0\ud76c \uad50\uc218\ub2d8 / 1\ubd84\ubc18\n",
      "###\u3000\u3000\u3000\u3000\u3000\u3000\u3000\u3000\u3000\u3000\u3000\u3000\u3000\u3000\u3000\u3000\u3000\u3000\u3000\u3000\u3000\u3000\u3000\u3000\u3000\u3000\u3000\u3000\u3000\u3000\u3000\u3000\ucef4\ud4e8\ud130\uacf5\ud559\ubd80 / 2011136102 / \uc7a5\uc900\uc601\n",
      "###\u3000\u3000\u3000\u3000\u3000\u3000\u3000\u3000\u3000\u3000\u3000\u3000\u3000\u3000\u3000\u3000\u3000\u3000\u3000\u3000\u3000\u3000\u3000\u3000\u3000\u3000\u3000\u3000\u3000\u3000\u3000\u3000\uc81c\ucd9c\uc77c : 2014. 9. 12. (\uae08)"
     ]
    },
    {
     "cell_type": "markdown",
     "metadata": {},
     "source": [
      "-----\n",
      "###**1. a = \"Hello Python\" \ubb38\uc790\uc5f4\uc744 Slicing\uacfc \uc5f0\uacb0 \uc5f0\uc0b0\uc790 (+)\ub97c \uc0ac\uc6a9\ud558\uc5ec \"Python Hello\"\ub85c \ubcc0\uacbd\ud558\uc2dc\uc624.**"
     ]
    },
    {
     "cell_type": "code",
     "collapsed": false,
     "input": [
      "a = \"Hello Python\"\n",
      "a = a[6:12] + ' ' + a[0:5]\n",
      "print a"
     ],
     "language": "python",
     "metadata": {},
     "outputs": [
      {
       "output_type": "stream",
       "stream": "stdout",
       "text": [
        "Python Hello\n"
       ]
      }
     ],
     "prompt_number": 1
    },
    {
     "cell_type": "markdown",
     "metadata": {},
     "source": [
      "###**\uc124\uba85**\n",
      "\n",
      "Slicing\uc744 \uc774\uc6a9 \ubb38\uc790\uc5f4\uc744 'Hello'\uc640 'Python' 2\uac1c\ub85c \ucabc\uac20 \ub2e4\uc74c, + \uc5f0\uc0b0\uc744 \uc774\uc6a9\ud558\uc5ec \uc21c\uc11c\ub97c \ubc14\uafb8\uc5b4 \uc774\uc5b4\ubd99\uc600\ub2e4."
     ]
    },
    {
     "cell_type": "markdown",
     "metadata": {},
     "source": [
      "-----\n",
      "###**2. b = \"Hello Python World\" \ubb38\uc790\uc5f4\uc744 Slicing\uacfc \uc5f0\uacb0 \uc5f0\uc0b0\uc790 (+)\ub97c \uc0ac\uc6a9\ud558\uc5ec \"World Python Hello\"\ub85c \ubcc0\uacbd\ud558\uc2dc\uc624.**"
     ]
    },
    {
     "cell_type": "code",
     "collapsed": false,
     "input": [
      "b = \"Hello Python World\"\n",
      "b = b[13:] + ' ' + b[6:12] + ' ' + b[:5]\n",
      "print b"
     ],
     "language": "python",
     "metadata": {},
     "outputs": [
      {
       "output_type": "stream",
       "stream": "stdout",
       "text": [
        "World Python Hello\n"
       ]
      }
     ],
     "prompt_number": 2
    },
    {
     "cell_type": "markdown",
     "metadata": {},
     "source": [
      "###**\uc124\uba85**\n",
      "\n",
      "Slicing\uc744 \uc774\uc6a9 \ubb38\uc790\uc5f4\uc744 'World'\uc640 'Python', 'World' 3\uac1c\ub85c \ucabc\uac20 \ub2e4\uc74c, + \uc5f0\uc0b0\uc744 \uc774\uc6a9\ud558\uc5ec \uc21c\uc11c\ub97c \ubc14\uafb8\uc5b4 \uc774\uc5b4\ubd99\uc600\ub2e4."
     ]
    },
    {
     "cell_type": "markdown",
     "metadata": {},
     "source": [
      "-----\n",
      "###**3. c = \"Hello\"\ub97c \"olleH\"\ub85c \ubcc0\uacbd\ud558\uc2dc\uc624.**"
     ]
    },
    {
     "cell_type": "code",
     "collapsed": false,
     "input": [
      "c = \"Hello\"\n",
      "c = c[::-1]\n",
      "print c"
     ],
     "language": "python",
     "metadata": {},
     "outputs": [
      {
       "output_type": "stream",
       "stream": "stdout",
       "text": [
        "olleH\n"
       ]
      }
     ],
     "prompt_number": 3
    },
    {
     "cell_type": "markdown",
     "metadata": {},
     "source": [
      "###**\uc124\uba85**\n",
      "\n",
      "Slicing\uc5d0\uc11c step\uc744 -1\uac12\uc744 \uc8fc\uc5b4 \ubb38\uc790\uc5f4\uc744 \uc5ed\uc21c\uc73c\ub85c \ub9cc\ub4e0 \ub2e4\uc74c, \uadf8\uac83\uc744 \ub2e4\uc2dc c\uc5d0 \uc800\uc7a5\ud558\uc600\ub2e4."
     ]
    },
    {
     "cell_type": "markdown",
     "metadata": {},
     "source": [
      "-----\n",
      "###**4. s = \"python\"\uc5d0 \ub300\ud574 \ub2e4\uc74c \ubb38\uc81c\ub97c \ud480\uc5b4\ubcf4\uc2dc\uc624.**"
     ]
    },
    {
     "cell_type": "markdown",
     "metadata": {},
     "source": [
      "    1) s[0], s[0][0], s[0][0][0]\uc740 \uac01\uac01 \uc5b4\ub5a4 \uac12\uc774 \ub098\uc624\ub294\uc9c0 \ud655\uc778\ud558\uace0 \uadf8 \uc774\uc720\ub97c \ub098\ub984\ub300\ub85c \uc124\uba85\ud574 \ubcf4\uc2dc\uc624."
     ]
    },
    {
     "cell_type": "code",
     "collapsed": false,
     "input": [
      "s = \"python\"\n",
      "print s[0]\n",
      "print s[0][0]\n",
      "print s[0][0][0]"
     ],
     "language": "python",
     "metadata": {},
     "outputs": [
      {
       "output_type": "stream",
       "stream": "stdout",
       "text": [
        "p\n",
        "p\n",
        "p\n"
       ]
      }
     ],
     "prompt_number": 4
    },
    {
     "cell_type": "markdown",
     "metadata": {},
     "source": [
      "###**\uc124\uba85**\n",
      "s[0]\uc740 \ubb38\uc790\uc5f4\uc758 \uccab\ubc88\uc9f8 \ubb38\uc790\ub97c \uac00\ub9ac\ud0a4\ubbc0\ub85c 'p'\uc774\ub2e4.\n",
      "\n",
      "s[0][0]\uc740 \ubb38\uc790\uc5f4 \"p\"\uc758 \uccab\ubc88\uc9f8 \ubb38\uc790\ub97c \uac00\ub9ac\ud0a4\ubbc0\ub85c 'p'\uc774\ub2e4.\n",
      "\n",
      "s[0][0][0] \uc5ed\uc2dc \ubb38\uc790\uc5f4 \"p\"\uc758 \uccab\ubc88\uc9f8 \ubb38\uc790\ub97c \uac00\ub9ac\ud0a4\ubbc0\ub85c 'p'\uc774\ub2e4."
     ]
    },
    {
     "cell_type": "markdown",
     "metadata": {},
     "source": [
      "    2) s[-100], s[100]\uc740 \uac12\uc774 \ub098\uc624\ub294\uc9c0 \uc5d0\ub7ec\uac00 \ub098\uc624\ub294\uc9c0 \ud655\uc778\ud558\uace0 \uadf8 \uacb0\uacfc\uc5d0 \ub300\ud55c \uc774\uc720\ub97c \ub098\ub984\ub300\ub85c \uc124\uba85\ud574 \ubcf4\uc2dc\uc624."
     ]
    },
    {
     "cell_type": "code",
     "collapsed": false,
     "input": [
      "print s[-100]"
     ],
     "language": "python",
     "metadata": {},
     "outputs": [
      {
       "ename": "IndexError",
       "evalue": "string index out of range",
       "output_type": "pyerr",
       "traceback": [
        "\u001b[1;31m---------------------------------------------------------------------------\u001b[0m\n\u001b[1;31mIndexError\u001b[0m                                Traceback (most recent call last)",
        "\u001b[1;32m<ipython-input-5-598074702a96>\u001b[0m in \u001b[0;36m<module>\u001b[1;34m()\u001b[0m\n\u001b[1;32m----> 1\u001b[1;33m \u001b[1;32mprint\u001b[0m \u001b[0ms\u001b[0m\u001b[1;33m[\u001b[0m\u001b[1;33m-\u001b[0m\u001b[1;36m100\u001b[0m\u001b[1;33m]\u001b[0m\u001b[1;33m\u001b[0m\u001b[0m\n\u001b[0m",
        "\u001b[1;31mIndexError\u001b[0m: string index out of range"
       ]
      }
     ],
     "prompt_number": 5
    },
    {
     "cell_type": "code",
     "collapsed": false,
     "input": [
      "print s[100]"
     ],
     "language": "python",
     "metadata": {},
     "outputs": [
      {
       "ename": "IndexError",
       "evalue": "string index out of range",
       "output_type": "pyerr",
       "traceback": [
        "\u001b[1;31m---------------------------------------------------------------------------\u001b[0m\n\u001b[1;31mIndexError\u001b[0m                                Traceback (most recent call last)",
        "\u001b[1;32m<ipython-input-6-8a5646048cdd>\u001b[0m in \u001b[0;36m<module>\u001b[1;34m()\u001b[0m\n\u001b[1;32m----> 1\u001b[1;33m \u001b[1;32mprint\u001b[0m \u001b[0ms\u001b[0m\u001b[1;33m[\u001b[0m\u001b[1;36m100\u001b[0m\u001b[1;33m]\u001b[0m\u001b[1;33m\u001b[0m\u001b[0m\n\u001b[0m",
        "\u001b[1;31mIndexError\u001b[0m: string index out of range"
       ]
      }
     ],
     "prompt_number": 6
    },
    {
     "cell_type": "markdown",
     "metadata": {},
     "source": [
      "###**\uc124\uba85**\n",
      "python\uc5d0\uc11c\ub294 s[n]\uc5d0\uc11c n\uc758 \ubc94\uc704\ub97c\n",
      "\n",
      "-len(s) <= n < len(s)\n",
      "\n",
      "\ub85c \uaddc\uc815\ud558\uace0 \uc788\uc74c\uc744 \uc54c \uc218 \uc788\uc5c8\ub2e4.\n",
      "\n",
      "\ub530\ub77c\uc11c, -len(s)\ubcf4\ub2e4 \uc791\uc740 -100\uacfc len(s)\ubcf4\ub2e4 \ud070 100\uc740 \uc5d0\ub7ec\uac00 \ub09c\ub2e4."
     ]
    },
    {
     "cell_type": "markdown",
     "metadata": {},
     "source": [
      "    3) s[-100, 100]\uc740 \uac12\uc774 \ub098\uc624\ub294\uc9c0 \uc5d0\ub7ec\uac00 \ub098\uc624\ub294\uc9c0 \ud655\uc778\ud558\uace0 \uadf8 \uacb0\uacfc\uc5d0 \ub300\ud55c \uc774\uc720\ub97c \ub098\ub984\ub300\ub85c \uc124\uba85\ud574 \ubcf4\uc2dc\uc624."
     ]
    },
    {
     "cell_type": "code",
     "collapsed": false,
     "input": [
      "print s[-100, 100]"
     ],
     "language": "python",
     "metadata": {},
     "outputs": [
      {
       "ename": "TypeError",
       "evalue": "string indices must be integers, not tuple",
       "output_type": "pyerr",
       "traceback": [
        "\u001b[1;31m---------------------------------------------------------------------------\u001b[0m\n\u001b[1;31mTypeError\u001b[0m                                 Traceback (most recent call last)",
        "\u001b[1;32m<ipython-input-7-682bda7d6434>\u001b[0m in \u001b[0;36m<module>\u001b[1;34m()\u001b[0m\n\u001b[1;32m----> 1\u001b[1;33m \u001b[1;32mprint\u001b[0m \u001b[0ms\u001b[0m\u001b[1;33m[\u001b[0m\u001b[1;33m-\u001b[0m\u001b[1;36m100\u001b[0m\u001b[1;33m,\u001b[0m \u001b[1;36m100\u001b[0m\u001b[1;33m]\u001b[0m\u001b[1;33m\u001b[0m\u001b[0m\n\u001b[0m",
        "\u001b[1;31mTypeError\u001b[0m: string indices must be integers, not tuple"
       ]
      }
     ],
     "prompt_number": 7
    },
    {
     "cell_type": "markdown",
     "metadata": {},
     "source": [
      "###**\uc124\uba85**\n",
      "\ubb38\uc790\uc5f4\uc758 \uc778\ub371\uc2a4\uac12\uc740 \ubc18\ub4dc\uc2dc \uc815\uc218\uac12\uc774\uc5b4\uc57c\ud55c\ub2e4.\n",
      "\uc778\ub371\uc2a4\uac12\uc73c\ub85c \ud29c\ud50c\uc774 \ub4e4\uc5b4\uac00\uc11c \uc5d0\ub7ec\uac00 \ubc1c\uc0dd\ud588\ub2e4."
     ]
    },
    {
     "cell_type": "markdown",
     "metadata": {},
     "source": [
      "    4) s[1:-1]\uc758 \uacb0\uacfc\ub97c \ud655\uc778\ud558\uace0 \uadf8 \uacb0\uacfc\uc5d0 \ub300\ud55c \uc774\uc720\ub97c \uc815\ud655\ud558\uac8c \uc124\uba85\ud558\uc2dc\uc624."
     ]
    },
    {
     "cell_type": "code",
     "collapsed": false,
     "input": [
      "print s[1:-1]"
     ],
     "language": "python",
     "metadata": {},
     "outputs": [
      {
       "output_type": "stream",
       "stream": "stdout",
       "text": [
        "ytho\n"
       ]
      }
     ],
     "prompt_number": 8
    },
    {
     "cell_type": "markdown",
     "metadata": {},
     "source": [
      "###**\uc124\uba85**\n",
      "s[1]\uc5d0\uc11c s[-1]\uc804\uae4c\uc9c0 Slicing\ud558\uace0 \uc788\ub2e4.\n",
      "\n",
      "s[-1]\uc740 s[5]\uc640 \uac19\ub2e4.\n",
      "\n",
      "\ub530\ub77c\uc11c s[1]\uc5d0\uc11c s[5]\uc804\uae4c\uc9c0\uc758 \ubb38\uc790\uc5f4\uc774 \ucd9c\ub825\ub41c\ub2e4."
     ]
    },
    {
     "cell_type": "markdown",
     "metadata": {},
     "source": [
      "    5) s[3:-3]\uc758 \uacb0\uacfc\ub97c \ud655\uc778\ud558\uace0 \uadf8 \uacb0\uacfc\uc5d0 \ub300\ud55c \uc774\uc720\ub97c \uc815\ud655\ud558\uac8c \uc124\uba85\ud558\uc2dc\uc624."
     ]
    },
    {
     "cell_type": "code",
     "collapsed": false,
     "input": [
      "print s[3:-3]"
     ],
     "language": "python",
     "metadata": {},
     "outputs": [
      {
       "output_type": "stream",
       "stream": "stdout",
       "text": [
        "\n"
       ]
      }
     ],
     "prompt_number": 9
    },
    {
     "cell_type": "markdown",
     "metadata": {},
     "source": [
      "###**\uc124\uba85**\n",
      "s[3]\uc5d0\uc11c s[-3]\uc804\uae4c\uc9c0 Slicing\ud558\uace0 \uc788\ub2e4.\n",
      "\n",
      "s[-3]\uc740 s[3]\uc640 \uac19\ub2e4.\n",
      "\n",
      "\ub530\ub77c\uc11c s[3]\uc5d0\uc11c s[3]\uc804\uae4c\uc9c0\uc758 \ubb38\uc790\uc5f4\uc774 \ucd9c\ub825\ub418\ubbc0\ub85c \uc544\ubb34\uac83\ub3c4 \ucd9c\ub825\ub418\uc9c0 \uc54a\ub294\ub2e4."
     ]
    },
    {
     "cell_type": "markdown",
     "metadata": {},
     "source": [
      "-----\n",
      "###**5. for\ubb38\uc744 \ud65c\uc6a9\ud558\uc5ec 1\ubd80\ud130 100\uc0ac\uc774\uc758 \ud640\uc218\ub97c \ucd9c\ub825\ud558\uc2dc\uc624.**"
     ]
    },
    {
     "cell_type": "code",
     "collapsed": false,
     "input": [
      "for x in range(50):\n",
      "    print 2*x+1"
     ],
     "language": "python",
     "metadata": {},
     "outputs": [
      {
       "output_type": "stream",
       "stream": "stdout",
       "text": [
        "1\n",
        "3\n",
        "5\n",
        "7\n",
        "9\n",
        "11\n",
        "13\n",
        "15\n",
        "17\n",
        "19\n",
        "21\n",
        "23\n",
        "25\n",
        "27\n",
        "29\n",
        "31\n",
        "33\n",
        "35\n",
        "37\n",
        "39\n",
        "41\n",
        "43\n",
        "45\n",
        "47\n",
        "49\n",
        "51\n",
        "53\n",
        "55\n",
        "57\n",
        "59\n",
        "61\n",
        "63\n",
        "65\n",
        "67\n",
        "69\n",
        "71\n",
        "73\n",
        "75\n",
        "77\n",
        "79\n",
        "81\n",
        "83\n",
        "85\n",
        "87\n",
        "89\n",
        "91\n",
        "93\n",
        "95\n",
        "97\n",
        "99\n"
       ]
      }
     ],
     "prompt_number": 10
    },
    {
     "cell_type": "markdown",
     "metadata": {},
     "source": [
      "###**\uc124\uba85**\n",
      "for\ubb38\uc758 \ubb38\ubc95\uc740 \ub2e4\uc74c\uacfc \uac19\ub2e4.\n",
      "\n",
      ">for <\ud0c0\uac9f> in <\uac1d\uccb4>:\n",
      "\n",
      ">><\ubb381>\n",
      "    \n",
      "range(n)\uc740 0\uc5d0\uc11c n-1\uae4c\uc9c0 \ubc94\uc704 \ub0b4\uc5d0\uc11c \uc21c\ucc28\uc801\uc778 \ub9ac\uc2a4\ud2b8\ub97c \ub9cc\ub4e4\uc5b4\ub0b8\ub2e4.\n",
      "\n",
      "\uc774\ub97c \uc774\uc6a9\ud574, x\uc758 0\uc5d0\uc11c 49\uae4c\uc9c0 \ubc94\uc704\uc5d0\uc11c 2*x+1 \uac12\uc744 \ucd9c\ub825\ud558\uba74 \ub41c\ub2e4."
     ]
    },
    {
     "cell_type": "markdown",
     "metadata": {},
     "source": [
      "-----\n",
      "###**6. while\ubb38\uc744 \ud65c\uc6a9\ud558\uc5ec 1\ubd80\ud130 100\uc0ac\uc774\uc758 \uc9dd\uc218\uc758 \ud569\uc744 \uacc4\uc0b0\ud558\uc5ec \ucd9c\ub825\ud558\uc2dc\uc624.**"
     ]
    },
    {
     "cell_type": "code",
     "collapsed": false,
     "input": [
      "sum = 0\n",
      "x = 1\n",
      "while x <= 50 :\n",
      "    sum += 2*x\n",
      "    x += 1\n",
      "print sum"
     ],
     "language": "python",
     "metadata": {},
     "outputs": [
      {
       "output_type": "stream",
       "stream": "stdout",
       "text": [
        "2550\n"
       ]
      }
     ],
     "prompt_number": 11
    },
    {
     "cell_type": "markdown",
     "metadata": {},
     "source": [
      "###**\uc124\uba85**\n",
      "while\ubb38\uc758 \ubb38\ubc95\uc740 \ub2e4\uc74c\uacfc \uac19\ub2e4.\n",
      "\n",
      ">while <\uc870\uac74\uc2dd>:\n",
      "\n",
      ">>    <\ubb381>\n",
      "    \n",
      "sum\uc758 \ucd08\uae30\uac12\uc740 0, x\uc758 \ucd08\uae30\uac12\uc740 1\uc744 \uc900\ub2e4.\n",
      "\n",
      "\uadf8 \ub2e4\uc74c, x\uc758 1\uc5d0\uc11c 50\uae4c\uc9c0 \ubc94\uc704\uc5d0\uc11c 2*x \uac12\uc744 sum\uc5d0 \ub354\ud574\ub098\uac00\uba74 \ub41c\ub2e4."
     ]
    },
    {
     "cell_type": "markdown",
     "metadata": {},
     "source": [
      "-----\n",
      "###**7. \uc678\ubd80\ub85c \ubd80\ud130 \uc815\uc218\ub97c \uc785\ub825\ubc1b\uc544\uc11c 1\ubd80\ud130 \uadf8 \uc0ac\uc774\uc5d0 \uc874\uc7ac\ud558\ub294 \uc18c\uc218(Prime number)\ub97c \ucd9c\ub825\ud558\ub294 \ud30c\uc774\uc36c \ud504\ub85c\uadf8\ub7a8\uc744 \uc791\uc131\ud558\uc2dc\uc624.**"
     ]
    },
    {
     "cell_type": "code",
     "collapsed": false,
     "input": [
      "num = int(raw_input('enter a integer number : '))\n",
      "array = range(num+1)\n",
      "for i in range(2,num/2+1):\n",
      "    j = 2\n",
      "    while i*j<=num:\n",
      "        array[i*j] = 0\n",
      "        j += 1\n",
      "for i in range(2, num+1):\n",
      "    if array[i]!=0:\n",
      "        print array[i]"
     ],
     "language": "python",
     "metadata": {},
     "outputs": [
      {
       "name": "stdout",
       "output_type": "stream",
       "stream": "stdout",
       "text": [
        "enter a integer number : 100\n"
       ]
      },
      {
       "output_type": "stream",
       "stream": "stdout",
       "text": [
        "2\n",
        "3\n",
        "5\n",
        "7\n",
        "11\n",
        "13\n",
        "17\n",
        "19\n",
        "23\n",
        "29\n",
        "31\n",
        "37\n",
        "41\n",
        "43\n",
        "47\n",
        "53\n",
        "59\n",
        "61\n",
        "67\n",
        "71\n",
        "73\n",
        "79\n",
        "83\n",
        "89\n",
        "97\n"
       ]
      }
     ],
     "prompt_number": 12
    },
    {
     "cell_type": "markdown",
     "metadata": {},
     "source": [
      "###**\uc124\uba85**\n",
      "\uac00\uc7a5 \uc9c1\uad00\uc801\uc774\uace0 \uac04\ub2e8\ud55c \uc18c\uc218 \uad6c\ud558\ub294 \ubc29\ubc95\uc778 '\uc5d0\ub77c\ud1a0\uc2a4\ud14c\ub124\uc2a4\uc758 \uccb4' \ubc29\ubc95\uc744 \uc774\uc6a9\ud558\uc600\ub2e4.\n",
      "\n",
      "2\uc5d0\uc11c n\uae4c\uc9c0\uc758 \uc218\uc5f4\uc5d0\uc11c 2\uc758 \ubc30\uc218\ub4e4(4,6,8,...), 3\uc758 \ubc30\uc218\ub4e4(6,9,12...), \uc774\ub7f0 \uc2dd\uc73c\ub85c \uc9c0\uc6cc\uac00\ub294 \ubc29\uc2dd\uc744 \uc774\uc6a9\ud588\ub2e4."
     ]
    },
    {
     "cell_type": "markdown",
     "metadata": {},
     "source": [
      "-----\n",
      "###**COMMENT**"
     ]
    },
    {
     "cell_type": "markdown",
     "metadata": {},
     "source": [
      "\uccab \uacfc\uc81c\ub97c \uc644\uc131\ud558\uae30\uae4c\uc9c0 \ub2e4\uc74c\uacfc \uac19\uc740 \uc2dc\ud589\ucc29\uc624\ub97c \uacaa\uc5c8\ub2e4.\n",
      "+ ipython notebook \uc124\uc815 \ud558\uae30.\n",
      "+ Markdown \ubb38\ubc95 \ubc30\uc6b0\uae30 : \ucc28\ub77c\ub9ac \uc544\ub798\uc544\ud55c\uae00\ub85c \uacfc\uc81c\ub97c \uc81c\ucd9c\ud558\ub294 \uac83\uc774 \ub0ab\uaca0\ub2e4\ub294 \uc0dd\uac01\uc774 \ub4e4\uc5c8\ub2e4. \ub108\ubb34 \uc775\uc219\ud558\uc9c0 \uc54a\uc740 \ud0d3\uc774\ub2e4. \ubb38\ub2e8 \uc815\ub82c \uae30\ub2a5\uc774\ub098 \uc904 \ubc14\uafc8 \uae30\ub2a5\uc774 \uc9c0\uc6d0\ub418\uc9c0 \uc54a\uc544 \ub9e4\uc6b0 \ubd88\ud3b8\ud588\ub2e4.\n",
      "+ \ub9c8\uc9c0\ub9c9 \ubb38\uc81c\uc778 \uc18c\uc218 \uad6c\ud558\uae30 \ubb38\uc81c : C\uc5b8\uc5b4\ub97c \uc774\uc6a9\ud558\uba74 \uae08\ubc29 \ud574\uacb0\ud588\uc744 \ubb38\uc81c\ub97c \uc0c8\ub85c\uc6b4 \uc5b8\uc5b4\ub85c \ud480\uc5b4\ubcf4\ub2c8 \ub9cc\ub9cc\uce58 \uc54a\uc558\ub2e4. \uacb0\uad6d C\uc5b8\uc5b4\ub85c \uc791\uc131\ud55c \uc18c\uc2a4\ucf54\ub4dc\ub97c \ud30c\uc774\uc36c \ubb38\ubc95\uc5d0 \ub9de\uac8c \uace0\uccd0 \ud574\uacb0\ud588\ub2e4. \uc544\uc774\ub7ec\ub2c8\ud558\uac8c\ub3c4 \uc774 \uacfc\uc81c\ub97c \ud1b5\ud574 \ud30c\uc774\uc36c\uc758 \ud3b8\ub9ac\ud568\ubcf4\ub2e4\ub3c4 C\uc5b8\uc5b4\uc758 \uac15\ub825\ud568\uc744 \uc808\uc2e4\ud788 \ub290\ub07c\uac8c \ub418\uc5c8\ub2e4.\n",
      "\n",
      "\n",
      "python, ipython notebook, Markdown, canopy, github \ub4f1\ub4f1... \uc0dd\uc18c\ud55c \uac83\ub4e4\uc774 \ub108\ubb34 \ub9ce\ub2e4. \ud558\uc9c0\ub9cc \uc870\uae08\ub9cc \ub354 \uc775\uc219\ud574\uc9c0\uba74 \uc544\uc8fc \ud3b8\ub9ac\ud560 \uac83 \uac19\ub2e4. \uc774 \uc218\uc5c5\uc744 \ud1b5\ud574 \ub0af\uc120 \uac83\ub4e4\uc774 \uc775\uc219\ud574\uc9c0\ub294 \ubcc0\ud654\uac00 \uc77c\uc5b4\ub098\uae30\ub97c \uae30\ub300\ud55c\ub2e4."
     ]
    },
    {
     "cell_type": "code",
     "collapsed": false,
     "input": [],
     "language": "python",
     "metadata": {},
     "outputs": []
    }
   ],
   "metadata": {}
  }
 ]
}