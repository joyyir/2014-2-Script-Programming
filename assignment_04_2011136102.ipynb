{
 "metadata": {
  "name": "",
  "signature": "sha256:4a666f271d6ac7a0d723810b6abf33a57cbc6ab3ebb9d867c8bcebe68e5733ee"
 },
 "nbformat": 3,
 "nbformat_minor": 0,
 "worksheets": [
  {
   "cells": [
    {
     "cell_type": "markdown",
     "metadata": {},
     "source": [
      "Script Programming Assignment - 04\n",
      "======\n",
      "###\u3000\u3000\u3000\u3000\u3000\u3000\u3000\u3000\u3000\u3000\u3000\u3000\u3000\u3000\u3000\u3000\u3000\u3000\u3000\u3000\u3000\u3000\u3000\u3000\u3000\u3000\u3000\u3000\u3000\u3000\u3000\u3000\ud55c\uc5f0\ud76c \uad50\uc218\ub2d8 / 1\ubd84\ubc18\n",
      "###\u3000\u3000\u3000\u3000\u3000\u3000\u3000\u3000\u3000\u3000\u3000\u3000\u3000\u3000\u3000\u3000\u3000\u3000\u3000\u3000\u3000\u3000\u3000\u3000\u3000\u3000\u3000\u3000\u3000\u3000\u3000\u3000\ucef4\ud4e8\ud130\uacf5\ud559\ubd80 / 2011136102 / \uc7a5\uc900\uc601\n",
      "###\u3000\u3000\u3000\u3000\u3000\u3000\u3000\u3000\u3000\u3000\u3000\u3000\u3000\u3000\u3000\u3000\u3000\u3000\u3000\u3000\u3000\u3000\u3000\u3000\u3000\u3000\u3000\u3000\u3000\u3000\u3000\u3000\uc81c\ucd9c\uc77c : 2014. 11. 14. (\uae08)"
     ]
    },
    {
     "cell_type": "markdown",
     "metadata": {},
     "source": [
      "-----\n",
      "###1. \ud30c\uc77c s.txt \ub0b4\uc758 \ub2e4\uc74c \ub0b4\uc6a9\uacfc \ud568\uaed8 \uc544\ub798 \ubb38\uc81c\uc758 \ucf54\ub4dc\ub97c \uc81c\uc2dc\ud558\uc2dc\uc624.\n",
      ">pig ham  \n",
      "cat dog  \n",
      "ham bird  \n",
      "dog pig  "
     ]
    },
    {
     "cell_type": "markdown",
     "metadata": {},
     "source": [
      "- **1) \ud30c\uc77c s.txt\uc744 \uc77d\uc5b4\uc11c \uac01 \ub77c\uc778\ub4e4\uc5d0 \uc788\ub294 \uccab \ubc88\uc9f8 \ub2e8\uc5b4(\ubb38\uc790\uc5f4)\ub4e4\uc744 \uae30\uc900\uc73c\ub85c \ub77c\uc778\ubcc4 \uc815\ub82c\ud6c4 \ud30c\uc77c s1.txt\uc5d0 \uadf8 \uacb0\uacfc\ub97c \uae30\ub85d\ud558\ub294 \ucf54\ub4dc\ub97c \uc791\uc131\ud558\uc2dc\uc624. \uc989, \ud504\ub85c\uadf8\ub7a8 \uc218\ud589 \ud6c4 s1.txt\uc5d0 \uc788\ub294 \ud30c\uc77c \ub0b4\uc6a9\uc740 \ub2e4\uc74c\uacfc \uac19\ub2e4.**\n",
      ">cat dog  \n",
      "dog pig  \n",
      "ham bird  \n",
      "pig ham"
     ]
    },
    {
     "cell_type": "code",
     "collapsed": false,
     "input": [
      "lineList = []\n",
      "result = ''\n",
      "\n",
      "f1 = file('s.txt')\n",
      "\n",
      "for line in f1:\n",
      "    lineList.append(line)\n",
      "lineList.sort()\n",
      "result = ''.join(lineList)\n",
      "print result\n",
      "\n",
      "f2 = open('s1.txt', 'w')\n",
      "f2.write(result)\n",
      "\n",
      "f1.close()\n",
      "f2.close()"
     ],
     "language": "python",
     "metadata": {},
     "outputs": [
      {
       "output_type": "stream",
       "stream": "stdout",
       "text": [
        "cat dog\n",
        "dog pig\n",
        "ham bird\n",
        "pig ham\n",
        "\n"
       ]
      }
     ],
     "prompt_number": 1
    },
    {
     "cell_type": "markdown",
     "metadata": {},
     "source": [
      "####\uc124\uba85\n",
      "    \ud589 \ub2e8\uc704\ub85c \ubb38\uc790\uc5f4\uc744 \ucabc\uac1c\uc5b4 \ub9ac\uc2a4\ud2b8\uc5d0 \ub123\ub294\ub2e4.\n",
      "    \uadf8 \ub9ac\uc2a4\ud2b8\ub97c sort\ud55c\ub2e4.  \n",
      "    sort\ub41c \ub9ac\uc2a4\ud2b8\ub97c \ubb38\uc790\uc5f4\ub85c \ud569\uce5c \ud6c4 \ud30c\uc77c\uc5d0 \uae30\ub85d\ud55c\ub2e4.  "
     ]
    },
    {
     "cell_type": "markdown",
     "metadata": {},
     "source": [
      "- **2) \ud30c\uc77c s.txt\uc744 \uc77d\uc5b4\uc11c \uac01 \ub77c\uc778\ub4e4\uc5d0 \uc788\ub294 \ub450 \ubc88\uc9f8 \ub2e8\uc5b4(\ubb38\uc790\uc5f4)\ub4e4\uc744 \uae30\uc900\uc73c\ub85c \ub77c\uc778\ubcc4 \uc815\ub82c\ud6c4 \ud30c\uc77c s2.txt\uc5d0 \uadf8 \uacb0\uacfc\ub97c \uae30\ub85d\ud558\ub294 \ucf54\ub4dc\ub97c \uc791\uc131\ud558\uc2dc\uc624. \uc989, \ud504\ub85c\uadf8\ub7a8 \uc218\ud589 \ud6c4 s2.txt\uc5d0 \uc788\ub294 \ud30c\uc77c \ub0b4\uc6a9\uc740 \ub2e4\uc74c\uacfc \uac19\ub2e4.**\n",
      ">ham bird  \n",
      "cat dog  \n",
      "pig ham  \n",
      "dog pig"
     ]
    },
    {
     "cell_type": "code",
     "collapsed": false,
     "input": [
      "# \ucd94\uac00\ub41c \ubd80\ubd84 1\n",
      "def mycmp(line1, line2):\n",
      "    return cmp(line1.split()[1], line2.split()[1])\n",
      "\n",
      "lineList = []\n",
      "result = ''\n",
      "\n",
      "f1 = file('s.txt')\n",
      "\n",
      "for line in f1:\n",
      "    lineList.append(line)\n",
      "lineList.sort(cmp = mycmp) # \ucd94\uac00\ub41c \ubd80\ubd84 2\n",
      "result = ''.join(lineList)\n",
      "print result\n",
      "\n",
      "f2 = open('s2.txt', 'w')\n",
      "f2.write(result)\n",
      "\n",
      "f1.close()\n",
      "f2.close()"
     ],
     "language": "python",
     "metadata": {},
     "outputs": [
      {
       "output_type": "stream",
       "stream": "stdout",
       "text": [
        "ham bird\n",
        "cat dog\n",
        "pig ham\n",
        "dog pig\n",
        "\n"
       ]
      }
     ],
     "prompt_number": 2
    },
    {
     "cell_type": "markdown",
     "metadata": {},
     "source": [
      "####\uc124\uba85\n",
      "    1)\uacfc \ubc29\uc2dd\uc740 \uac19\uc73c\ub098, sort\uc5d0\uc11c cmp \ud568\uc218\ub97c \ub450 \ubc88\uc9f8 \ub2e8\uc5b4\ub97c \ube44\uad50\ud558\ub3c4\ub85d \uc124\uc815\ud55c\ub2e4."
     ]
    },
    {
     "cell_type": "markdown",
     "metadata": {},
     "source": [
      "- **3) \ud30c\uc77c s2.txt\uc744 \uc77d\uc5b4\uc11c \uac01 \ub77c\uc778\ub4e4\uc5d0 \uc788\ub294 \ubaa8\ub4e0 \ub2e8\uc5b4\ub4e4\uc744 \uc21c\ucc28\uc801\uc73c\ub85c \ub2e4\uc2dc \ub098\uc5f4\ud558\ub418 \uac01 \ub77c\uc778\uc5d0 \uc138 \uac1c\uc758 \ub2e8\uc5b4\ub4e4\uc774 \uc624\ub3c4\ub85d \ud558\uc5ec s3.txt\uc5d0 \uae30\ub85d\ud558\ub294 \ucf54\ub4dc\ub97c \uc791\uc131\ud558\uc2dc\uc624. \uc989, \ud504\ub85c\uadf8\ub7a8 \uc218\ud589 \ud6c4 s3.txt\uc5d0 \uc788\ub294 \ud30c\uc77c \ub0b4\uc6a9\uc740 \ub2e4\uc74c\uacfc \uac19\ub2e4.**\n",
      ">ham bird cat  \n",
      "dog pig ham  \n",
      "dog pig  "
     ]
    },
    {
     "cell_type": "code",
     "collapsed": false,
     "input": [
      "f1 = file('s2.txt')\n",
      "result = ''\n",
      "resultList = []\n",
      "\n",
      "wordList = f1.read().split()\n",
      "\n",
      "count = 0\n",
      "for i in range(len(wordList)):\n",
      "    resultList.append(wordList[i])\n",
      "    if i % 3 == 2:\n",
      "        resultList.append('\\n')\n",
      "    else:\n",
      "        resultList.append(' ')\n",
      "\n",
      "result = ''.join(resultList)\n",
      "print result\n",
      "\n",
      "f2 = open('s3.txt', 'w')\n",
      "f2.write(result)\n",
      "\n",
      "f1.close()\n",
      "f2.close()"
     ],
     "language": "python",
     "metadata": {},
     "outputs": [
      {
       "output_type": "stream",
       "stream": "stdout",
       "text": [
        "ham bird cat\n",
        "dog pig ham\n",
        "dog pig \n"
       ]
      }
     ],
     "prompt_number": 3
    },
    {
     "cell_type": "markdown",
     "metadata": {},
     "source": [
      "####\uc124\uba85\n",
      "- \uae30\uc874 \ub2e8\uc5b4\ub4e4\uc744 wordList\ub77c\ub294 \ubc30\uc5f4\uc5d0 \uc800\uc7a5\ud55c\ub2e4. \n",
      "- resultList\ub77c\ub294 \ube48 \ubc30\uc5f4\uc5d0 wordList\uc5d0 \uc800\uc7a5\ub41c \ub2e8\uc5b4\ub4e4\uc744 \ud558\ub098\ud558\ub098 \ub123\ub294\ub2e4. \uc774 \ub54c, index\ub97c 3\uc744 \ub098\ub208 \ub098\uba38\uc9c0\uac00 2\uc774\uba74 \uc904\uc774 \ubc14\ub00c\uc5b4\uc57c\ud558\ubbc0\ub85c '\\n'\ub97c \ucd94\uac00\ud55c\ub2e4."
     ]
    },
    {
     "cell_type": "markdown",
     "metadata": {},
     "source": [
      "-----\n",
      "###2. \ub2e4\uc74c\uacfc \uac19\uc740 \uc870\uac74\ub4e4\uc744 \ucc38\uace0\ud558\uc5ec \ud68c\uc6d0 \uac00\uc785 \ubc0f \ub85c\uadf8\uc778 \ud504\ub85c\uadf8\ub7a8\uc744 \uc791\uc131\ud558\uc2dc\uc624. "
     ]
    },
    {
     "cell_type": "markdown",
     "metadata": {},
     "source": [
      "- 1) \ud504\ub85c\uadf8\ub7a8 \uc2dc\uc791 \ud6c4 \ub2e4\uc74c\uacfc \uac19\uc740 \uba54\uc2dc\uc9c0\uac00 \ucd9c\ub825\ub418\uc5b4 1, 2, 3 \uc911 \ud558\ub098\uc758 \uac12\uc744 \uc785\ub825 \ubc1b\ub3c4\ub85d \ud55c\ub2e4.  \n",
      ">**Welcome to Our Service**  \n",
      ">\n",
      ">1.Sign Up  \n",
      "2.Sign In  \n",
      "3.Quit\n"
     ]
    },
    {
     "cell_type": "markdown",
     "metadata": {},
     "source": [
      "- 2) 1\uc744 \uc120\ud0dd\ud558\uba74 ID, Password, Name, School\uc758 4\uac00\uc9c0 \uc815\ubcf4\ub97c \uc785\ub825\ubc1b\uc544 \ud30c\uc77c\uc5d0 \uc800\uc7a5\ud558\ub294 \ud504\ub85c\uadf8\ub7a8\uc744 \uc791\uc131\ud55c\ub2e4.  \n",
      "    - 2-1) \uc785\ub825\ub41c \ub0b4\uc6a9\uc740 access \ub77c\ub294 \uc774\ub984\uc758 \ud30c\uc77c \ub0b4\uc5d0 \uc800\uc7a5\ub41c\ub2e4.  \n",
      "    - 2-2) access \ud30c\uc77c\uc758 \uac01 \ub77c\uc778\uc5d0\ub294 \uac00\uc785\ub41c \ud68c\uc6d0 \uac01\uac01\uc758 \uc815\ubcf4\uac00 \"id: password, name, school\" \ud615\ud0dc\ub85c \uc800\uc7a5\ub41c\ub2e4.  \n",
      "    - 2-3) \uc989, \uac00\uc785 \ud68c\uc6d0\uc774 10\uba85\uc774\uba74 access \ud30c\uc77c \ub0b4\uc5d0 \ub77c\uc778 \uc218\ub3c4 \uc815\ud655\ud788 10\uc774\ub2e4.  \n",
      "    - 2-4) \uc554\ud638\ud654 \ubc29\uc2dd\uc740 sha \ubaa8\ub4c8\uc744 \ud65c\uc6a9\ud55c\ub2e4. sha \ubaa8\ub4c8 \ud65c\uc6a9 \ubc29\ubc95\uc740 \ubcf8 \ubb38\uc81c\uc758 \ub9c8\uc9c0\ub9c9\uc5d0 \uc81c\uc2dc\ub41c sha \ud65c\uc6a9 \uc608\ub97c \ucc38\uace0\ud55c\ub2e4.  \n",
      "        - \uc989, access \ud30c\uc77c \ub0b4\uc5d0 password \uc815\ubcf4\ub294 \uc554\ud638\ud654 \ub418\uc5b4 \uc800\uc7a5\ub418\uc5b4\uc57c \ud55c\ub2e4.  \n",
      "    - 2-5) \ud68c\uc6d0 \uc815\ubcf4\ub97c \uc785\ub825 \ubc1b\uc744 \ub54c id\ub97c \uc785\ub825 \ubc1b\uc740 \uc9c1\ud6c4 access\ub97c \ud655\uc778\ud558\uc5ec \uc774\ubbf8 \uc874\uc7ac\ud558\ub294 id\uac00 \uc785\ub825\ub418\uc5c8\ub2e4\uba74 \ub2e4\uc74c \uba54\uc2dc\uc9c0\ub97c \ucd9c\ub825\ud558\uace0 id \uc815\ubcf4\ub97c \ub2e4\uc2dc \uc785\ub825\ubc1b\ub294\ub2e4.\n",
      "        - Sorry, the entered ID is already used."
     ]
    },
    {
     "cell_type": "markdown",
     "metadata": {},
     "source": [
      "- 3) 2\ub97c \uc120\ud0dd\ud558\uba74 ID, Password\uc758 2\uac00\uc9c0 \uc815\ubcf4\ub97c \uc785\ub825\ubc1b\ub294 \ud504\ub85c\uadf8\ub7a8\uc744 \uc791\uc131\ud55c\ub2e4.  \n",
      "    - 3-1) \uc785\ub825\ub41c ID \uc815\ubcf4\uac00 access\uc5d0 \uc874\uc7ac\ud558\uc9c0 \uc54a\uc73c\uba74 \ub2e4\uc74c\uacfc \uac19\uc740 \uba54\uc2dc\uc9c0\ub97c \ucd9c\ub825\ud558\uace0 \ub2e4\uc2dc \uc785\ub825\ubc1b\ub294\ub2e4.  \n",
      "        - Sorry, you are not a registered member.  \n",
      "    - 3-2) \uc785\ub825\ub41c ID\uac00 \uc62c\ubc14\ub974\uac8c \uc874\uc7ac\ud558\uc9c0\ub9cc Password \uc815\ubcf4\uac00 access \ud30c\uc77c\uc5d0 \uc788\ub294 \uc815\ubcf4\uc640 \ubd88\uc77c\uce58 \ud558\uba74 \ub2e4\uc74c\uacfc \uac19\uc740 \uba54\uc2dc\uc9c0\ub97c \ucd9c\ub825\ud558\uace0 \ub2e4\uc2dc \uc785\ub825\ubc1b\ub294\ub2e4.\n",
      "        - Sorry, the entered password is not correct.  \n",
      "        - \uc774 \ub54c\uc5d0\ub3c4 \uc0ac\uc6a9\uc790\uac00 \uc785\ub825\ud55c \ud328\uc2a4\uc6cc\ub4dc \uc815\ubcf4\uc640 \ud568\uaed8 sha \ubaa8\ub4c8\uc774 \ud65c\uc6a9\ub418\uc5b4\uc57c \ud55c\ub2e4.\n",
      "    - 3-3) \uc785\ub825\ub41c ID\uc640 Password\uac00 \ubaa8\ub450 \uc62c\ubc14\ub974\uba74 \ub2e4\uc74c\uacfc \uac19\uc740 \uba54\uc2dc\uc9c0\ub97c \ucd9c\ub825\ud55c\ub2e4.\n",
      "        - Hello [name]!\n",
      "        - \uc704 [name]\uc5d0\ub294 access\uc5d0 \uae30\ub85d\ub418\uc5b4 \uc788\ub294 name \uc815\ubcf4\ub97c \ucd9c\ub825\ud55c\ub2e4.\n",
      "\n"
     ]
    },
    {
     "cell_type": "markdown",
     "metadata": {},
     "source": [
      "- 4) 3\uc744 \uc120\ud0dd\ud558\uba74 \ud504\ub85c\uadf8\ub7a8\uc774 \ub05d\ub09c\ub2e4.  \n",
      "- [\ucc38\uace0] sha \ubaa8\ub4c8 \ud65c\uc6a9 \uc608"
     ]
    },
    {
     "cell_type": "code",
     "collapsed": false,
     "input": [
      "import sha\n",
      "password_plain = \"my password\"\n",
      "password_encrypted = sha.new(password_plain).hexdigest()\n",
      "print password_encrypted"
     ],
     "language": "python",
     "metadata": {},
     "outputs": [
      {
       "output_type": "stream",
       "stream": "stdout",
       "text": [
        "a2f8f7fa195a080a22a689041daa8f2044f9f336\n"
       ]
      }
     ],
     "prompt_number": 6
    },
    {
     "cell_type": "code",
     "collapsed": false,
     "input": [
      "import sha\n",
      "import os\n",
      "\n",
      "def printMenu():\n",
      "    print\n",
      "    print \"-----------------------\"\n",
      "    print \"Welcome to Our Service\"\n",
      "    print\n",
      "    print \"1. Sign Up\"\n",
      "    print \"2. Sign In\"\n",
      "    print \"3. Quit\"\n",
      "    return\n",
      "    \n",
      "def signUp():  \n",
      "    while True:\n",
      "        isAlreadyUsed = False\n",
      "        ID = raw_input(\"ID :\\t\\t\")\n",
      "        \n",
      "        if os.path.exists(\"access\") == False:\n",
      "            f = open('access', 'a')\n",
      "            f.close()\n",
      "        \n",
      "        f = open('access', 'r')\n",
      "        \n",
      "        for line in f:\n",
      "            if(line.split(':')[0] == ID):\n",
      "                print \"Sorry, the entered ID is already used.\"\n",
      "                isAlreadyUsed = True\n",
      "                break\n",
      "        f.close()\n",
      "        if isAlreadyUsed == False:\n",
      "            break\n",
      "        else:\n",
      "            continue    \n",
      "            \n",
      "    password_plain = raw_input(\"Password :\\t\")\n",
      "    name = raw_input(\"Name :\\t\\t\")\n",
      "    school = raw_input(\"School :\\t\")\n",
      "    \n",
      "    password_encrypted = sha.new(password_plain).hexdigest()\n",
      "    \n",
      "    f = open('access', 'a')\n",
      "    f.write(ID)\n",
      "    f.write(': ')\n",
      "    f.write(password_encrypted)\n",
      "    f.write(', ')\n",
      "    f.write(name)\n",
      "    f.write(', ')\n",
      "    f.write(school)\n",
      "    f.write('\\n')\n",
      "    f.close()\n",
      "    return\n",
      "    \n",
      "def signIn():\n",
      "    while True:\n",
      "        exist = False\n",
      "        ID = raw_input(\"ID :\\t\\t\")\n",
      "        f = open('access', 'r')\n",
      "        \n",
      "        for line in f:\n",
      "            lineSplit = line.split(':')\n",
      "            if(lineSplit[0] == ID):\n",
      "                exist = True\n",
      "                userInfo = lineSplit[1].split(',')\n",
      "                password_encrypted = userInfo[0][1:]\n",
      "                break\n",
      "        f.close()\n",
      "        if exist == False:\n",
      "            print \"Sorry, you are not a registered member.\"\n",
      "            continue\n",
      "        else:\n",
      "            break\n",
      "    while True:        \n",
      "        password_plain = raw_input(\"Password :\\t\")\n",
      "        if password_encrypted != sha.new(password_plain).hexdigest():\n",
      "            print \"Sorry, the entered password is not correct.\"\n",
      "            continue\n",
      "        break\n",
      "    print \"Hello [%s]!\" % userInfo[1][1:]\n",
      "    return\n",
      "    \n",
      "\n",
      "while True:\n",
      "    printMenu()\n",
      "    menu = int(raw_input(\"select menu : \"))\n",
      "    if menu == 1:\n",
      "        signUp()\n",
      "    elif menu == 2:\n",
      "        signIn()\n",
      "    else:\n",
      "        print \"See you!\"\n",
      "        break"
     ],
     "language": "python",
     "metadata": {},
     "outputs": [
      {
       "output_type": "stream",
       "stream": "stdout",
       "text": [
        "\n",
        "-----------------------\n",
        "Welcome to Our Service\n",
        "\n",
        "1. Sign Up\n",
        "2. Sign In\n",
        "3. Quit\n"
       ]
      },
      {
       "name": "stdout",
       "output_type": "stream",
       "stream": "stdout",
       "text": [
        "select menu : 1\n"
       ]
      },
      {
       "name": "stdout",
       "output_type": "stream",
       "stream": "stdout",
       "text": [
        "ID :\t\tjoyyir\n"
       ]
      },
      {
       "name": "stdout",
       "output_type": "stream",
       "stream": "stdout",
       "text": [
        "Password :\tlove\n"
       ]
      },
      {
       "name": "stdout",
       "output_type": "stream",
       "stream": "stdout",
       "text": [
        "Name :\t\tJang Junyeong\n"
       ]
      },
      {
       "name": "stdout",
       "output_type": "stream",
       "stream": "stdout",
       "text": [
        "School :\tKOREATECH CSE\n"
       ]
      },
      {
       "output_type": "stream",
       "stream": "stdout",
       "text": [
        "\n",
        "-----------------------\n",
        "Welcome to Our Service\n",
        "\n",
        "1. Sign Up\n",
        "2. Sign In\n",
        "3. Quit\n"
       ]
      },
      {
       "name": "stdout",
       "output_type": "stream",
       "stream": "stdout",
       "text": [
        "select menu : 1\n"
       ]
      },
      {
       "name": "stdout",
       "output_type": "stream",
       "stream": "stdout",
       "text": [
        "ID :\t\tjoyyir\n"
       ]
      },
      {
       "output_type": "stream",
       "stream": "stdout",
       "text": [
        "Sorry, the entered ID is already used.\n"
       ]
      },
      {
       "name": "stdout",
       "output_type": "stream",
       "stream": "stdout",
       "text": [
        "ID :\t\ttoyyir\n"
       ]
      },
      {
       "name": "stdout",
       "output_type": "stream",
       "stream": "stdout",
       "text": [
        "Password :\tpeace\n"
       ]
      },
      {
       "name": "stdout",
       "output_type": "stream",
       "stream": "stdout",
       "text": [
        "Name :\t\tChoi Donghee\n"
       ]
      },
      {
       "name": "stdout",
       "output_type": "stream",
       "stream": "stdout",
       "text": [
        "School :\tDankook Univ\n"
       ]
      },
      {
       "output_type": "stream",
       "stream": "stdout",
       "text": [
        "\n",
        "-----------------------\n",
        "Welcome to Our Service\n",
        "\n",
        "1. Sign Up\n",
        "2. Sign In\n",
        "3. Quit\n"
       ]
      },
      {
       "name": "stdout",
       "output_type": "stream",
       "stream": "stdout",
       "text": [
        "select menu : 2\n"
       ]
      },
      {
       "name": "stdout",
       "output_type": "stream",
       "stream": "stdout",
       "text": [
        "ID :\t\tfreeman\n"
       ]
      },
      {
       "output_type": "stream",
       "stream": "stdout",
       "text": [
        "Sorry, you are not a registered member.\n"
       ]
      },
      {
       "name": "stdout",
       "output_type": "stream",
       "stream": "stdout",
       "text": [
        "ID :\t\tjoyyir\n"
       ]
      },
      {
       "name": "stdout",
       "output_type": "stream",
       "stream": "stdout",
       "text": [
        "Password :\tpeace\n"
       ]
      },
      {
       "output_type": "stream",
       "stream": "stdout",
       "text": [
        "Sorry, the entered password is not correct.\n"
       ]
      },
      {
       "name": "stdout",
       "output_type": "stream",
       "stream": "stdout",
       "text": [
        "Password :\tlove\n"
       ]
      },
      {
       "output_type": "stream",
       "stream": "stdout",
       "text": [
        "Hello [Jang Junyeong]!\n",
        "\n",
        "-----------------------\n",
        "Welcome to Our Service\n",
        "\n",
        "1. Sign Up\n",
        "2. Sign In\n",
        "3. Quit\n"
       ]
      },
      {
       "name": "stdout",
       "output_type": "stream",
       "stream": "stdout",
       "text": [
        "select menu : 3\n"
       ]
      },
      {
       "output_type": "stream",
       "stream": "stdout",
       "text": [
        "See you!\n"
       ]
      }
     ],
     "prompt_number": 1
    },
    {
     "cell_type": "markdown",
     "metadata": {},
     "source": [
      "####\uc124\uba85\n",
      "- \ucc98\ub9ac\uc5d0 \uacaa\uc740 \ub09c\ud56d\n",
      "    1. \ud55c\uae00 \uc785\ub825\uc740 \ub418\ub098 \ucd9c\ub825\uc774 \uc548 \ub41c\ub2e4. \ud574\uacb0 \ubabb\ud558\uc600\uc74c.\n",
      "    2. access \ud30c\uc77c\uc774 \uc874\uc7ac\ud558\uc9c0 \uc54a\uc744 \ub54c, open('access', 'r') \ubd80\ubd84\uc5d0\uc11c \uc5d0\ub7ec \ubc1c\uc0dd. os.path.exist() \ud568\uc218\ub97c \uc774\uc6a9\ud558\uc5ec \ud574\uacb0\ud558\uc600\ub2e4.\n"
     ]
    },
    {
     "cell_type": "markdown",
     "metadata": {},
     "source": [
      "-----\n",
      "###3. range() \ud568\uc218\uc640 \uc720\uc0ac\ud55c frange() \ud568\uc218\ub97c \ub2e4\uc74c \uc870\uac74\uc744 \ucc38\uace0\ud558\uc5ec \ub9cc\ub4dc\uc2dc\uc624."
     ]
    },
    {
     "cell_type": "markdown",
     "metadata": {},
     "source": [
      "- 1) frange()\uc758 \uc778\uc790 \uad6c\uc131\uc740 \ub2e4\uc74c\uacfc \uac19\uc774 range\uc640 \ub3d9\uc77c\ud558\uc9c0\ub9cc \uac01 \uc778\uc218\ub4e4\uc740 \uc74c\uc218\ub97c \ubc1b\uc9c0 \uc54a\ub294\ub2e4\uace0 \uac00\uc815\ud55c\ub2e4.  \n",
      ">range(stop)  \n",
      " range(start, stop[, step])  \n",
      "\n",
      "- 2) frange() \ud568\uc218\uc758 \uc778\uc790\uc5d0 \ub300\ud55c \uae30\ubcf8 \uc2dc\uc791(start) \uac12\uc740 0.0\uc774\uace0, \uae30\ubcf8 \ub2e8\uacc4(step) \uac12\uc740 0.1\uc774\ub2e4.  \n",
      "- 3) frange \uc0ac\uc6a9 \uc608  \n",
      "    - 3-1) frange(0.5)\n",
      "        - [0.0, 0.1, 0.2, 0.3, 0.4]  \n",
      "    - 3-2) frange(1.0, 2.0)\n",
      "        - [1.0, 1.1, 1.2, 1.3, 1.4, 1.5, 1.6, 1.7, 1.8, 1.9]  \n",
      "    - 3-3) frange(2.2, 4.0, 0.5)\n",
      "        - [2.2, 2.7, 3.2, 3.7]\n",
      "\n",
      "\n"
     ]
    },
    {
     "cell_type": "code",
     "collapsed": false,
     "input": [
      "def frange(*args):\n",
      "    if len(args) == 1:\n",
      "        return realFrange(end = args[0])\n",
      "    elif len(args) == 2:\n",
      "        return realFrange(start = args[0], end = args[1])  \n",
      "    elif len(args) == 3:\n",
      "        return realFrange(start = args[0], end = args[1], step = args[2])  \n",
      "    else:\n",
      "        return []\n",
      "    \n",
      "def realFrange(end, start=0.0, step=0.1):\n",
      "    result = []\n",
      "    number = start\n",
      "    i = 1\n",
      "    while number < end:\n",
      "        result.append(number)\n",
      "        number = start + step * i\n",
      "        i = i + 1\n",
      "    return result \n",
      "\n",
      "print frange(0.5)\n",
      "print frange(1.0, 2.0)\n",
      "print frange(2.2, 4.0, 0.5)"
     ],
     "language": "python",
     "metadata": {},
     "outputs": [
      {
       "output_type": "stream",
       "stream": "stdout",
       "text": [
        "[0.0, 0.1, 0.2, 0.30000000000000004, 0.4]\n",
        "[1.0, 1.1, 1.2, 1.3, 1.4, 1.5, 1.6, 1.7000000000000002, 1.8, 1.9]\n",
        "[2.2, 2.7, 3.2, 3.7]\n"
       ]
      }
     ],
     "prompt_number": 9
    },
    {
     "cell_type": "markdown",
     "metadata": {},
     "source": [
      "####\uc124\uba85\n",
      "- \uc0ac\uc6a9\uc790\ub85c\ubd80\ud130 \ud638\ucd9c\ub418\ub294 \ud568\uc218, \ud568\uc218 \ub0b4\uc5d0\uc11c \uc5f0\uc0b0\ud558\ub294 \ud568\uc218, \ucd1d 2\uac1c\ub85c \uad6c\uc131\ub41c\ub2e4.\n",
      "- \uc0ac\uc6a9\uc790\ub85c\ubd80\ud130 \ud638\ucd9c\ub418\ub294 \ud568\uc218\ub294 \uac00\ubcc0 \uc778\uc218 \ub9ac\uc2a4\ud2b8\ub97c \uc774\uc6a9\ud574\uc11c \uc778\uc218\uac00 1\uac1c, 2\uac1c, 3\uac1c\uc77c \uacbd\uc6b0\ub97c \ub098\ub204\uc5b4 \ucc98\ub9ac\ud55c\ub2e4.\n",
      "- \ud568\uc218 \ub0b4\uc5d0\uc11c \uc5f0\uc0b0\ud558\ub294 \ud568\uc218\ub294 \uae30\ubcf8 \uc778\uc218\uac12\uc744 \uc0ac\uc6a9\ud55c\ub2e4.\n",
      "- \ub09c\uad00 : \uc18c\uc218\uc810\uc774 0.300000000000004\uac19\uc774 \ub098\uc624\ub294 \uac83\uc744 \uc5b4\ub5bb\uac8c \ud574\uacb0\ud560\uc9c0 \ubaa8\ub974\uaca0\ub2e4."
     ]
    },
    {
     "cell_type": "markdown",
     "metadata": {},
     "source": [
      "-----\n",
      "###4. \uac00\ubcc0\uc778\uc218\ub97c \ubc1b\ub294 \ud568\uc218 sum()\uc744 \ub2e4\uc74c\uacfc \uac19\uc740 \uc870\uac74\uc744 \ucc38\uace0\ud558\uc5ec \uad6c\ud604\ud558\uc2dc\uc624."
     ]
    },
    {
     "cell_type": "markdown",
     "metadata": {},
     "source": [
      "- 1) sum() \uc0ac\uc6a9 \uc608  \n",
      "    - sum()\n",
      "        - 0\n",
      "    - sum(1, 2)\n",
      "        - 3\n",
      "    - sum(1, 2, 3, 4, 5)\n",
      "        - 15\n",
      "    - sum(1, 5, 7, 2, -10)\n",
      "        - 5"
     ]
    },
    {
     "cell_type": "code",
     "collapsed": false,
     "input": [
      "def sum(*args):\n",
      "    sum = 0\n",
      "    for i in args:\n",
      "        sum += i\n",
      "    return sum\n",
      "\n",
      "print sum()\n",
      "print sum(1, 2)\n",
      "print sum(1, 2, 3, 4, 5)\n",
      "print sum(1, 5, 7, 2, -10)"
     ],
     "language": "python",
     "metadata": {},
     "outputs": [
      {
       "output_type": "stream",
       "stream": "stdout",
       "text": [
        "0\n",
        "3\n",
        "15\n",
        "5\n"
       ]
      }
     ],
     "prompt_number": 10
    },
    {
     "cell_type": "markdown",
     "metadata": {},
     "source": [
      "####\uc124\uba85\n",
      "- \uac00\ubcc0\uc778\uc218\ub85c \ubc1b\uc740 \ub9ac\uc2a4\ud2b8\uc758 \uac12\uc744\uc744 \ub2e4 \ub354\ud55c\ub2e4."
     ]
    },
    {
     "cell_type": "markdown",
     "metadata": {},
     "source": [
      "-----\n",
      "###5. \uc5ec\ub7ec \ub2e8\uc5b4\ub85c \uc774\ub8e8\uc5b4\uc9c4 \ubb38\uc790\uc5f4\uc744 \uc785\ub825\ubc1b\uc544 \uac01 \ub2e8\uc5b4\uc758 \uccab\uae00\uc790\ub85c \uc774\ub8e8\uc5b4\uc9c4 \ub2e8\uc5b4\ub97c \ub300\ubb38\uc790\ub85c \ucd9c\ub825\ud558\ub294 myinitial() \ud568\uc218\ub97c \ub2e4\uc74c \uc870\uac74\uc744 \ucc38\uace0\ud558\uc5ec \uc791\uc131\ud558\uc2dc\uc624.  \n",
      "- 1) split, map, join \ud568\uc218\ub97c \ubaa8\ub450 \uc774\uc6a9\ud574\uc57c \ud55c\ub2e4.  \n",
      "- 2) myinitial() \ud568\uc218 \uc0ac\uc6a9 \uc608  \n",
      "    - myinitial(\"as soon as possible\")\n",
      "        - ASAP"
     ]
    },
    {
     "cell_type": "code",
     "collapsed": false,
     "input": [
      "def myinitial(string):\n",
      "    return ''.join(map(lambda x:x.capitalize()[0], string.split()))\n",
      "\n",
      "print myinitial(\"as soon as possible\")\n",
      "print myinitial(\"show me the money\")"
     ],
     "language": "python",
     "metadata": {},
     "outputs": [
      {
       "output_type": "stream",
       "stream": "stdout",
       "text": [
        "ASAP\n",
        "SMTM\n"
       ]
      }
     ],
     "prompt_number": 15
    },
    {
     "cell_type": "markdown",
     "metadata": {},
     "source": [
      "####\uc124\uba85\n",
      "- string\uc744 \ub2e8\uc5b4\ub85c \ucabc\uac1c \ub9ac\uc2a4\ud2b8\ub85c \ub9cc\ub4e0\ub2e4.\n",
      "- \uac01 \ub2e8\uc5b4\uc640 \uac01 \ub2e8\uc5b4 \uccab\uae00\uc790\uc758 \ub300\ubb38\uc790\ub97c mapping \uc2dc\ud0a8\ub2e4.\n",
      "- mapping \uacb0\uacfc\ub97c join\ud568\uc218\ub97c \ubb36\uc5b4 \ubc18\ud658\ud55c\ub2e4."
     ]
    },
    {
     "cell_type": "markdown",
     "metadata": {},
     "source": [
      "-----\n",
      "###6. \uc74c\uc774 \uc544\ub2cc \uc815\uc218 n\ub97c \uc785\ub825\ubc1b\uc73c\uba74 n! (factorial)\uc744 \uacc4\uc0b0\ud558\ub294 myfact() \ud568\uc218\ub97c \uc7ac\uadc0\uc801 \ud568\uc218\ub85c \uad6c\ud604\ud558\uc2dc\uc624.  "
     ]
    },
    {
     "cell_type": "code",
     "collapsed": false,
     "input": [
      "def myfact(n):\n",
      "    if n <= 1:\n",
      "        return 1\n",
      "    return n * myfact(n-1)\n",
      "\n",
      "print myfact(0)\n",
      "print myfact(5)\n",
      "print myfact(10)"
     ],
     "language": "python",
     "metadata": {},
     "outputs": [
      {
       "output_type": "stream",
       "stream": "stdout",
       "text": [
        "1\n",
        "120\n",
        "3628800\n"
       ]
      }
     ],
     "prompt_number": 18
    },
    {
     "cell_type": "markdown",
     "metadata": {},
     "source": [
      "####\uc124\uba85\n",
      "- \uc885\ub8cc\uc870\uac74 : n\uc774 1\uacfc \uac19\uac70\ub098 \uc791\uc744 \ub54c\n",
      "- \uc7ac\uadc0\uc870\uac74 : myfact(n) == n * myfact(n-1)"
     ]
    },
    {
     "cell_type": "markdown",
     "metadata": {},
     "source": [
      "-----\n",
      "###7. (\uc11c\uc220\ud615) import string \uacfc from string import * \uc758 \ucc28\uc774\uc810\uc744 \uc124\uba85\ud558\uc2dc\uc624."
     ]
    },
    {
     "cell_type": "markdown",
     "metadata": {},
     "source": [
      "####\uc124\uba85\n",
      "- **import string** : \ud604\uc7ac \ub124\uc784\uc2a4\ud398\uc774\uc2a4\uc5d0 string\uc774\ub77c\ub294 \ubaa8\ub4c8\uc744 \uadf8\ub0e5 \uac00\uc838\uc628 \uac83\uc774\ub2e4. \uc608\ub97c \ub4e4\uc5b4 string \ubaa8\ub4c8\uc758 capitalize\ub97c \uc0ac\uc6a9\ud558\ub824\uba74, string.capitalize \ub77c\ub294 \ubc29\uc2dd\uc73c\ub85c \uc0ac\uc6a9\ud55c\ub2e4.\n",
      "- **from string import capitalize** : \uc55e\uc5d0 string.\uc744 \ubd99\uc77c \ud544\uc694 \uc5c6\uc774 capitalize\ub97c \ubc14\ub85c \uc0ac\uc6a9\ud560 \uc218 \uc788\ub2e4. \ud604\uc7ac \ub124\uc784\uc2a4\ud398\uc774\uc2a4\uc5d0 string.capitalize\ub97c \uac00\uc838\uc640\uc11c capitalize\ub77c\ub294 \uc774\ub984\uc73c\ub85c \ucc38\uc870\ud560 \uc218 \uc788\uac8c \ub418\uc5c8\ub2e4.\n",
      "- **from string import * :** \uac04\ub2e8\ud558\uc9c0\ub9cc \uc870\uc2ec\ud574\uc57c\ud560 \uad6c\ubb38\uc774\ub2e4. string \ubaa8\ub4c8\uc758 \ubaa8\ub4e0 public \uc18d\uc131/\ud568\uc218\ub97c \ubaa8\ub450 \ud604\uc7ac \ub124\uc784\uc2a4\ud398\uc774\uc2a4 \uc548\uc73c\ub85c \uac00\uc9c0\uace0 \uc628\ub2e4. \ub9cc\uc57d \uac19\uc740 \uc774\ub984\uc774 \uc788\uc73c\uba74 overwrite \ub41c\ub2e4. \ub530\ub77c\uc11c, \uac00\uae09\uc801\uc774\uba74 * \ub97c \uc4f0\uc9c0 \ub9d0\uace0, \ud558\ub098\uc529 \uc9c0\uc815\ud574\uc11c \uc0ac\uc6a9\ud558\ub294 \uac8c \uc88b\uc740 \uc2b5\uad00\uc774\ub2e4."
     ]
    },
    {
     "cell_type": "markdown",
     "metadata": {},
     "source": [
      "-----\n",
      "###8. \uc774\uc804 Assignment 3\uc758 \ub9c8\uc9c0\ub9c9 \ubb38\uc81c\ub294 \uc6f9 URL\ub85c \uc9c0\uc815\ub41c \uc6f9\ud398\uc774\uc9c0\ub97c \ubb38\uc790\uc5f4\ub85c \uac00\uc838\uc640 \ubaa8\ub4e0 HTML \ud0dc\uadf8 \ubc0f CSS\uc640 Javascript\ub97c \uc81c\uc678\ud55c \uc21c\uc218 \ud14d\uc2a4\ud2b8\ub97c \uc5bb\uc5b4\ub0b4\uace0 \uadf8 \uc548\uc5d0 \uc874\uc7ac\ud558\ub294 \ub2e8\uc5b4\ub97c \ucd94\ucd9c\ud558\uc5ec \uac01 \ub2e8\uc5b4\ub4e4\uc5d0 \ub300\ud574 \ucd9c\ud604\ube48\ub3c4\ub97c \uc0ac\uc804\ud615\ud0dc({'world': 2, 'hello': 1, 'python': 1})\ub85c \uc800\uc7a5\ud558\uc5ec \ucd9c\ub825\ud558\ub294 \uac83\uc774\uc5c8\ub2e4. \uc774\ubc88\uc5d0\ub294 Assignment 3\ub97c \ud655\uc7a5\ud558\uc5ec \ub2e4\uc74c\uacfc \uac19\uc740 \uc870\uac74\uc744 \ub9cc\uc871\ud558\ub3c4\ub85d \uad6c\ud604\ud558\uc2dc\uc624.  \n",
      "- 1) \uac01 URL\ub85c \uc9c0\uc815\ub41c \uc6f9\ud398\uc774\uc9c0\uc758 HTML \uc18c\uc2a4\ub97c \ud30c\uc77c\ub85c \uc800\uc7a5\ud558\uc2dc\uc624.  \n",
      "    - URL\uc774 http://URL \uc774\ub77c\uba74 \ud30c\uc77c\uba85\uc740 URL.html \uc774\ub2e4.  \n",
      "    - \uc608: URL\uc774 http://www.koreatech.ac.kr \uc774\ub77c\uba74 \ud30c\uc77c\uba85\uc740 www.koreatech.ac.kr.html \uc774\ub2e4.  \n",
      "- 2) \ub2e8\uc5b4\uc758 \ucd9c\ud604\ube48\ub3c4\uac00 \ub2f4\uae34 \uc0ac\uc804 \uac1d\uccb4\ub97c \uc704 HTML \uc18c\uc2a4 \ud30c\uc77c\uacfc \ub3d9\uc77c\ud55c \ud3f4\ub354\uc5d0 \ud30c\uc77c\ub85c \uc800\uc7a5\ud558\uc2dc\uc624.  \n",
      "    - \uad50\uc7ac 11-2 \ud53c\ud074\ub9c1 \ubc29\ubc95\uc744 \ud65c\uc6a9\ud558\uc2dc\uc624.  \n",
      "    - URL\uc774 http://URL \uc774\ub77c\uba74 \ud30c\uc77c\uba85\uc740 URL.words.frequency \uc774\ub2e4.  \n",
      "    - \uc608: URL\uc774 http://www.koreatech.ac.kr \uc774\ub77c\uba74 \ud30c\uc77c\uba85\uc740 www.koreatech.ac.kr.words.frequency \uc774\ub2e4.  \n",
      "- 3) \ucd5c\uc18c 5\uac1c \uc774\uc0c1\uc758 \uc6f9 \uc0ac\uc774\ud2b8\uc5d0 \ub300\ud55c HTML \uc18c\uc2a4 \ud30c\uc77c\uacfc \ub2e8\uc5b4 \ucd9c\ud604\ube48\ub3c4 \ud30c\uc77c\uc744 \uc800\uc7a5\ud558\uc2dc\uc624.  \n",
      "    - \uc989, \ucd1d 10\uac1c\uc758 \ud30c\uc77c\uc744 \ub3d9\uc77c\ud55c \ud3f4\ub354\uc5d0 \uc0dd\uc131\ud558\uc2dc\uc624.  \n",
      "\n"
     ]
    },
    {
     "cell_type": "code",
     "collapsed": false,
     "input": [
      "# -*- coding: utf-8 -*-\n",
      "import urllib\n",
      "import string\n",
      "import pickle\n",
      "\n",
      "def getHTMLandWordFrequency(url):\n",
      "    ##############\uae30\uc874 \uc18c\uc2a4 \uc2dc\uc791###############\n",
      "    s = urllib.urlopen(url).read()\n",
      "    temp_result = []\n",
      "    open_cnt = 0\n",
      "    close_cnt = 0\n",
      "    is_in_par = False;\n",
      "    is_style_script = False;\n",
      "    range_s = range(len(s));\n",
      "    for k in range_s:\n",
      "   \tif is_in_par:\n",
      "  \t\tif s[k] == '>':\n",
      " \t\t\tclose_cnt = close_cnt + 1\n",
      " \t\t\tif s.startswith('/style', k-6) or s.startswith('/STYLE', k-6) or\\\n",
      " \t\t\ts.startswith('/script', k-7) or s.startswith('/SCRIPT', k-7) :\n",
      "    \t\t\t\tis_style_script = False;\n",
      " \t\t\tif open_cnt == close_cnt:\n",
      "    \t\t\t\tis_in_par = False\n",
      " \t\t\tcontinue\n",
      "  \t\telif s[k] == '<':\n",
      " \t\t\topen_cnt = open_cnt + 1\n",
      "  \t\telse:\n",
      " \t\t\tcontinue\n",
      "   \telse: # not in par\n",
      "  \t\tif s[k] == '<':\n",
      " \t\t\ttemp_result.append(' ')\n",
      " \t\t\topen_cnt = open_cnt + 1\n",
      " \t\t\tis_in_par = True\n",
      " \t\t\tif s.startswith('style', k+1) or s.startswith('STYLE', k+1) or\\\n",
      " \t\t\ts.startswith('script', k+1) or s.startswith('SCRIPT', k+1) :\n",
      "    \t\t\t\tis_style_script = True;\n",
      " \t\t\tcontinue\n",
      "  \t\telse:\n",
      " \t\t\tif is_style_script:\n",
      "    \t\t\t\tcontinue\n",
      " \t\t\telse:\n",
      "    \t\t\t\ttemp_result.append(s[k])\n",
      "    result = ''.join(temp_result)\n",
      "    \n",
      "    # \ub2e8\uc5b4\uc758 \uad6c\ub450\uc810 \uc81c\uac70 \ubc0f \uae38\uc774\uac00 0\uc778 \ub2e8\uc5b4 \uc81c\uac70\n",
      "    dic = result.split()\n",
      "    new_dic = []\n",
      "    for word in dic:\n",
      "        word_temp = []\n",
      "        word_temp2 = ''\n",
      "        for ch in word:\n",
      "            if ch not in string.punctuation:\n",
      "                word_temp.append(ch)\n",
      "        word_temp2 = ''.join(word_temp)\n",
      "        #word_temp2.strip('\\t\\r\\n ')\n",
      "        if len(word_temp2) == 0:\n",
      "            continue\n",
      "        else:\n",
      "            new_dic.append(word_temp2)\n",
      "    \n",
      "    # \uc0ac\uc804\uc73c\ub85c \uc7ac\uad6c\uc131\n",
      "    new_result = {}\n",
      "    for word in new_dic:\n",
      "        new_result[word] = new_dic.count(word)\n",
      "    \n",
      "    ##############\uae30\uc874 \uc18c\uc2a4 \ub05d###############\n",
      "    \n",
      "    \n",
      "    f_html = open(url.split('//')[1] + \".html\", 'w')\n",
      "    f_html.write(s)\n",
      "    f_html.close()\n",
      "    \n",
      "    f_dic = open(url.split('//')[1] + \".words.frequency\", 'w')\n",
      "    pickle.dump(new_result, f_dic)\n",
      "    f_dic.close()\n",
      "   \n",
      "    # \ud568\uc218 \uc815\uc758 \ub05d\n",
      "    \n",
      "    \n",
      "# __main__ \uc2dc\uc791    \n",
      "getHTMLandWordFrequency(\"http://cse.kut.ac.kr\")\n",
      "getHTMLandWordFrequency(\"http://www.naver.com\")\n",
      "getHTMLandWordFrequency(\"http://link.kut.ac.kr\")\n",
      "getHTMLandWordFrequency(\"http://section.blog.naver.com\")\n",
      "getHTMLandWordFrequency(\"http://pann.nate.com\")"
     ],
     "language": "python",
     "metadata": {},
     "outputs": [],
     "prompt_number": 21
    },
    {
     "cell_type": "markdown",
     "metadata": {},
     "source": [
      "####\uc124\uba85\n",
      "- \ubaa8\ub4e0 \ucc98\ub9ac\uacfc\uc815\uc744 getHTMLandWordFrequency(url) \ud568\uc218\ub85c \ubb36\uc5c8\ub2e4.\n",
      "- \uc9c0\ub09c \uacfc\uc81c\uc5d0\uc11c \ud30c\uc77c \uc785\ucd9c\ub825 \ubd80\ubd84, \ud53c\ud074\ub9c1 \ubd80\ubd84\ub9cc \ucd94\uac00\ud588\ub2e4."
     ]
    },
    {
     "cell_type": "markdown",
     "metadata": {},
     "source": [
      "-----\n",
      "###9. \uc704 \ubb38\uc81c\uc5d0\uc11c \uc800\uc7a5\ud55c \ubaa8\ub4e0 words.frequency \ud30c\uc77c\ub4e4\uc744 \ub85c\ub4dc \ud558\uc5ec \ubcf8\uc778\uc774 \uc800\uc7a5\ud558\uc5ec \ubd84\uc11d\ud55c \uc0ac\uc774\ud2b8\ub4e4\uc5d0\uc11c \uac00\uc7a5 \ub9ce\uc774 \ucd9c\ud604\ud55c \ub2e8\uc5b4\ub97c \ubf51\uc544 \uc81c\uc2dc\ud558\uc2dc\uc624.  \n",
      "- 8\ubc88 \ubb38\uc81c\uc640\ub294 \ub2e4\ub978 \ubcc4\ub3c4\uc758 \ud504\ub85c\uadf8\ub7a8\uc73c\ub85c \uc791\uc131\ud558\uc2dc\uc624."
     ]
    },
    {
     "cell_type": "code",
     "collapsed": false,
     "input": [
      "# -*- coding: utf-8 -*-\n",
      "import glob\n",
      "import pickle\n",
      "\n",
      "fileList = glob.glob('*.words.frequency')\n",
      "for file in fileList:\n",
      "    print file\n",
      "    f_dic = open(file, 'r')\n",
      "    wordFrequency = pickle.load(f_dic)\n",
      "    resultTuple = max(wordFrequency.items(), key=lambda x:x[1])\n",
      "    print \"%s : %d\ubc88\" % resultTuple\n",
      "    print\n",
      "    f_dic.close()"
     ],
     "language": "python",
     "metadata": {},
     "outputs": [
      {
       "output_type": "stream",
       "stream": "stdout",
       "text": [
        "cse.kut.ac.kr.words.frequency\n",
        "\ud2b9\uc131\ud654 : 6\ubc88\n",
        "\n",
        "link.kut.ac.kr.words.frequency\n",
        "nbspnbsp : 18\ubc88\n",
        "\n",
        "pann.nate.com.words.frequency\n",
        "\ucd94\ucc9c : 40\ubc88\n",
        "\n",
        "section.blog.naver.com.words.frequency\n",
        "8203 : 27\ubc88\n",
        "\n",
        "www.naver.com.words.frequency\n",
        "\ub124\uc774\ubc84 : 14\ubc88\n",
        "\n"
       ]
      }
     ],
     "prompt_number": 22
    },
    {
     "cell_type": "markdown",
     "metadata": {},
     "source": [
      "####\uc124\uba85\n",
      "- glob \ubaa8\ub4c8\uc744 \uc774\uc6a9\ud574 \ud604\uc7ac \ud3f4\ub354\uc758 \ubaa8\ub4e0 words.frequency \ud30c\uc77c\ub4e4\uc758 \ub9ac\uc2a4\ud2b8\ub97c \ubc1b\ub294\ub2e4.\n",
      "- \uac01 \ud30c\uc77c\ub4e4\uc744 \uc77d\uc5b4\uc11c pickle.load \ud568\uc218\ub85c \uc0ac\uc804 \ud615\ud0dc\ub85c \ubcc0\ud658\ud55c\ub2e4.\n",
      "- max \ud568\uc218\uc5d0\uc11c \uc0ac\uc804\uc758 value \uac12\uc744 \ube44\uad50\ud558\ub3c4\ub85d \uc124\uc815\ud558\uc5ec \uac00\uc7a5 \ub9ce\uc774 \uc4f0\uc778 \ub2e8\uc5b4\ub97c \ubf51\ub294\ub2e4.\n",
      "- \uacb0\uacfc\ub97c \ucd9c\ub825\ud55c\ub2e4."
     ]
    },
    {
     "cell_type": "markdown",
     "metadata": {},
     "source": [
      "-----\n",
      "###**COMMENT**"
     ]
    },
    {
     "cell_type": "markdown",
     "metadata": {},
     "source": [
      "- \uacfc\uc81c \ub09c\uc774\ub3c4\uac00 \uc0c1\ub2f9\ud558\uac8c \ub290\uaef4\uc84c\ub2e4. \uadf8\ub798\ub3c4 \uc774\uc81c\ub294 Python\uc5d0 \uaf64 \uc775\uc219\ud574\uc9c4 \ub355\ubd84\uc5d0 \ubb38\ubc95\uc801\uc778 \ubd80\ubd84\uc73c\ub85c \ud798\ub4e4\uc9c4 \uc54a\ub2e4. \uc54c\uace0\ub9ac\uc998 \ubd80\ubd84\uc5d0\uc11c \uace0\ubbfc\ud558\ub294 \uc2dc\uac04\uc774 \ub354 \ub9ce\ub2e4.\n",
      "- \ud30c\uc77c \ucc98\ub9ac \ubd80\ubd84\uc5d0\uc11c glob \ubaa8\ub4c8\uacfc, os.path \ubaa8\ub4c8\uc758 \ub3c4\uc6c0\uc744 \ubc1b\uc558\ub2e4. \uc5ec\ub7ec\uac00\uc9c0 \ubaa8\ub4c8\uc5d0 \ub300\ud574 \uc54c\uc544\ub450\uba74 \ud544\uc694\ud560 \ub54c \uc54c\uace0 \uc0ac\uc6a9\ud560 \uc218 \uc788\uc5b4 \uc88b\uc740 \uac83 \uac19\ub2e4.\n",
      "- Python\uc5d0\uc11c \ud55c\uae00 \ucc98\ub9ac \ubd80\ubd84\uc774 \uc544\uc9c1\ub3c4 \ubbf8\uc219\ud558\ub2e4. \uad50\uc218\ub2d8\uaed8 \uc9c8\ubb38\ud558\uc5ec \ud655\uc2e4\ud788 \uc54c\uc544\uc57c\uaca0\ub2e4.\n",
      "- \uc774\uc7ac\ud611 \uad50\uc218\ub2d8 Java\uac15\uc758\uc5d0\uc11c \uac00\ubcc0\uc778\uc218\ub97c \uc4f0\ub294\uac74 \ubcc4\ub85c \uc548 \uc88b\ub2e4\uace0 \ud558\uc168\ub294\ub370 Python\uc5d0\uc11c\ub294 \ub098\ub984 \ud3b8\ub9ac\uc131\uc774 \uc788\ub294 \uac83 \uac19\ub2e4. overloading \ud558\uc9c0 \uc54a\uace0\uc11c\ub3c4 \ub2e4\uc591\ud55c \uc778\uc218\ub97c \ubc1b\ub294 \ud568\uc218\ub97c \ub9cc\ub4e4 \uc218 \uc788\uc5b4\uc11c \ud3b8\ub9ac\ud558\ub2e4."
     ]
    }
   ],
   "metadata": {}
  }
 ]
}